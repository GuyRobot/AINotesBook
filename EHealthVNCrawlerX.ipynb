{
  "nbformat": 4,
  "nbformat_minor": 0,
  "metadata": {
    "colab": {
      "provenance": [],
      "authorship_tag": "ABX9TyONj2eNmq2DeiDmiNwjwg2W",
      "include_colab_link": true
    },
    "kernelspec": {
      "name": "python3",
      "display_name": "Python 3"
    },
    "language_info": {
      "name": "python"
    }
  },
  "cells": [
    {
      "cell_type": "markdown",
      "metadata": {
        "id": "view-in-github",
        "colab_type": "text"
      },
      "source": [
        "<a href=\"https://colab.research.google.com/github/GuyRobot/AINotesBook/blob/main/EHealthVNCrawlerX.ipynb\" target=\"_parent\"><img src=\"https://colab.research.google.com/assets/colab-badge.svg\" alt=\"Open In Colab\"/></a>"
      ]
    },
    {
      "cell_type": "code",
      "execution_count": 18,
      "metadata": {
        "id": "ZSjxriqa13BG"
      },
      "outputs": [],
      "source": [
        "from bs4 import BeautifulSoup\n",
        "from urllib.request import urlopen\n",
        "import re\n",
        "step = 40\n",
        "BASE_URL = \"http://diendansuckhoe24h.net/\"\n",
        "\n",
        "# url = \"https://suckhoetoday.com/p/179-Phong-benh-mua-dong.html/\"\n",
        "# url = \"https://suckhoetoday.com/p/97-BENH-VA-CHUA-BENH-CHO-TRE-CON.html/\"\n",
        "# url = \"https://suckhoetoday.com/p/98-BENH-DICH-THEO-MUA.html/\"\n",
        "# url = \"https://suckhoetoday.com/p/185-Phong-benh-mua-he.html/\"\n",
        "url = \"http://diendansuckhoe24h.net/\"\n",
        "# url = \"https://suckhoetoday.com/p/93-CHE-DO-DINH-DUONG.html/\"\n",
        "page = urlopen(url)\n",
        "html = page.read().decode(\"utf-8\")\n",
        "soup = BeautifulSoup(html, \"html.parser\")\n",
        "init_url = url"
      ]
    },
    {
      "cell_type": "code",
      "source": [
        "soup.find_all(\"ol\", {\"id\": \"forums\"})[0].find_all(\"ol\", {\"class\": \"nodeList\"})[0].find_all(\"li\", {\"class\": \"node\"})[0].find_all(\"h3\", {\"class\": \"nodeTitle\"})[0].find_all(\"a\")[0].get(\"href\")"
      ],
      "metadata": {
        "id": "4LuaX3aFYzZn",
        "outputId": "6f1c228e-fc91-452d-b43e-fb3462921dda",
        "colab": {
          "base_uri": "https://localhost:8080/"
        }
      },
      "execution_count": null,
      "outputs": [
        {
          "output_type": "execute_result",
          "data": {
            "text/plain": [
              "'forums/suc-khoe-tre-em/'"
            ],
            "application/vnd.google.colaboratory.intrinsic+json": {
              "type": "string"
            }
          },
          "metadata": {},
          "execution_count": 17
        }
      ]
    },
    {
      "cell_type": "code",
      "source": [
        "ass = [a for x in soup.find_all(\"ol\", {\"id\": \"forums\"})[0].find_all(\"ol\", {\"class\": \"nodeList\"}) for a in x.find_all(\"li\", {\"class\": \"node\"})]"
      ],
      "metadata": {
        "id": "hsXkad0oa--g"
      },
      "execution_count": null,
      "outputs": []
    },
    {
      "cell_type": "code",
      "source": [
        "pages = [a.find_all(\"h3\", {\"class\": \"nodeTitle\"})[0].find_all(\"a\")[0].get(\"href\") for a in ass]"
      ],
      "metadata": {
        "id": "GRqTc-SHaY75"
      },
      "execution_count": 27,
      "outputs": []
    },
    {
      "cell_type": "code",
      "source": [
        "url = f\"{BASE_URL}{pages[0]}\"\n",
        "page = urlopen(url)\n",
        "html = page.read().decode(\"utf-8\")\n",
        "soup = BeautifulSoup(html, \"html.parser\")"
      ],
      "metadata": {
        "id": "8Aiifn_c8SpW"
      },
      "execution_count": 56,
      "outputs": []
    },
    {
      "cell_type": "code",
      "source": [
        "links = [a.find_all(\"h3\", {\"class\": \"title\"})[0].find_all(\"a\")[0].get(\"href\") for a in soup.find_all(\"ol\", {\"class\": \"discussionListItems\"})[0].find_all(\"li\", {\"class\": \"discussionListItem\"})]"
      ],
      "metadata": {
        "id": "R4m9B_cQcLvS"
      },
      "execution_count": 57,
      "outputs": []
    },
    {
      "cell_type": "code",
      "source": [
        "url = f\"{BASE_URL}{links[0]}\"\n",
        "page = urlopen(url)\n",
        "html = page.read().decode(\"utf-8\")\n",
        "soup = BeautifulSoup(html, \"html.parser\")"
      ],
      "metadata": {
        "id": "MZj24cnib9A-"
      },
      "execution_count": 38,
      "outputs": []
    },
    {
      "cell_type": "code",
      "source": [
        "ARTICLE = soup.find(\"div\", {\"class\": \"messageContent\"}).get_text()"
      ],
      "metadata": {
        "id": "uRM4ArAleo9i"
      },
      "execution_count": 43,
      "outputs": []
    },
    {
      "cell_type": "code",
      "source": [
        "import json\n",
        "data = []\n",
        "for p, page in enumerate(pages):\n",
        "  print(f\"Crawl {page}\")\n",
        "  try:\n",
        "    page_url = f\"{BASE_URL}{page}\"\n",
        "    page_page = urlopen(page_url)\n",
        "    page_html = page_page.read().decode(\"utf-8\")\n",
        "    page_soup = BeautifulSoup(page_html, \"html.parser\")\n",
        "    questions = [a.find_all(\"h3\", {\"class\": \"title\"})[0].find_all(\"a\")[0].get_text() for a in page_soup.find_all(\"ol\", {\"class\": \"discussionListItems\"})[0].find_all(\"li\", {\"class\": \"discussionListItem\"})]\n",
        "    links = [a.find_all(\"h3\", {\"class\": \"title\"})[0].find_all(\"a\")[0].get(\"href\") for a in page_soup.find_all(\"ol\", {\"class\": \"discussionListItems\"})[0].find_all(\"li\", {\"class\": \"discussionListItem\"})]\n",
        "    for i, link in enumerate(links):\n",
        "      url = f\"{BASE_URL}{link}\"\n",
        "      page = urlopen(url)\n",
        "      html = page.read().decode(\"utf-8\")\n",
        "      soup = BeautifulSoup(html, \"html.parser\")\n",
        "      answer = soup.find(\"div\", {\"class\": \"messageContent\"}).get_text()\n",
        "      data.append({\"question\": re.sub(r'Question:', '', re.sub(r'(\\n\\s*)+\\n+', '\\n', re.sub(r'\\r', r'\\n', questions[i].strip())), re.I),\n",
        "                        \"answer\": re.sub(r'Detailed Answer:', '', re.sub(r'Brief Answer:', '', re.sub(r'(\\n\\s*)+\\n+', '\\n', re.sub(r'\\r', r'\\n', answer.strip())), re.I), re.I), \"url\": url})\n",
        "      if p % 2 == 0:\n",
        "        with open(\"crawled.json\", \"w\", encoding='utf-8') as f:\n",
        "          json.dump(data, f, indent=4, ensure_ascii=False)\n",
        "  except:\n",
        "    pass"
      ],
      "metadata": {
        "id": "tbJ1qp44kW1N",
        "outputId": "163d13e2-1032-4021-8c69-f2e14d864127",
        "colab": {
          "base_uri": "https://localhost:8080/"
        }
      },
      "execution_count": null,
      "outputs": [
        {
          "output_type": "stream",
          "name": "stdout",
          "text": [
            "Crawl forums/suc-khoe-tre-em/\n"
          ]
        }
      ]
    },
    {
      "cell_type": "code",
      "source": [
        "!pip install -q transformers"
      ],
      "metadata": {
        "id": "xvTwUUw3fo9D",
        "outputId": "154af900-46f7-483b-9d0f-6265ad2f3893",
        "colab": {
          "base_uri": "https://localhost:8080/"
        }
      },
      "execution_count": 41,
      "outputs": [
        {
          "output_type": "stream",
          "name": "stdout",
          "text": [
            "Successfully installed huggingface-hub-0.17.2 safetensors-0.3.3 tokenizers-0.13.3 transformers-4.33.2\n"
          ]
        }
      ]
    },
    {
      "cell_type": "code",
      "source": [
        "from transformers import pipeline\n",
        "\n",
        "summarizer = pipeline(\"summarization\", model=\"facebook/bart-large-cnn\")"
      ],
      "metadata": {
        "id": "2zat3yGFfloE"
      },
      "execution_count": null,
      "outputs": []
    },
    {
      "cell_type": "code",
      "source": [
        "print(summarizer(ARTICLE[:512], max_length=512, min_length=30, do_sample=False))"
      ],
      "metadata": {
        "id": "gD3t3YD3gCFJ",
        "outputId": "91daaa91-bd47-4acd-b41a-6c1f182356bb",
        "colab": {
          "base_uri": "https://localhost:8080/"
        }
      },
      "execution_count": 48,
      "outputs": [
        {
          "output_type": "stream",
          "name": "stderr",
          "text": [
            "Your max_length is set to 512, but your input_length is only 443. Since this is a summarization task, where outputs shorter than the input are typically wanted, you might consider decreasing max_length manually, e.g. summarizer('...', max_length=221)\n"
          ]
        },
        {
          "output_type": "stream",
          "name": "stdout",
          "text": [
            "[{'summary_text': 'Một ngày nào đó mình sẽ mua những món đồ chơi xịn cho bé như nhà bóng, xích đu, cỉu trượt về tại không gian sống nhè. Mỗi cái mà con yêu thích nhát.'}]\n"
          ]
        }
      ]
    },
    {
      "cell_type": "code",
      "source": [
        "links = [a.get(\"href\") for a in soup.find_all(\"a\", {\"class\": \"title\"})]\n",
        "links"
      ],
      "metadata": {
        "id": "CJoMwyjd2qTM"
      },
      "execution_count": null,
      "outputs": []
    }
  ]
}