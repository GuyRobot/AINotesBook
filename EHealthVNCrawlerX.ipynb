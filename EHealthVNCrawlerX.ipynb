{
  "nbformat": 4,
  "nbformat_minor": 0,
  "metadata": {
    "colab": {
      "provenance": [],
      "authorship_tag": "ABX9TyNFrOjCMnW7QQVNjE7Mqere",
      "include_colab_link": true
    },
    "kernelspec": {
      "name": "python3",
      "display_name": "Python 3"
    },
    "language_info": {
      "name": "python"
    }
  },
  "cells": [
    {
      "cell_type": "markdown",
      "metadata": {
        "id": "view-in-github",
        "colab_type": "text"
      },
      "source": [
        "<a href=\"https://colab.research.google.com/github/GuyRobot/AINotesBook/blob/main/EHealthVNCrawlerX.ipynb\" target=\"_parent\"><img src=\"https://colab.research.google.com/assets/colab-badge.svg\" alt=\"Open In Colab\"/></a>"
      ]
    },
    {
      "cell_type": "code",
      "execution_count": 18,
      "metadata": {
        "id": "ZSjxriqa13BG"
      },
      "outputs": [],
      "source": [
        "from bs4 import BeautifulSoup\n",
        "from urllib.request import urlopen\n",
        "import re\n",
        "step = 40\n",
        "BASE_URL = \"http://diendansuckhoe24h.net/\"\n",
        "\n",
        "# url = \"https://suckhoetoday.com/p/179-Phong-benh-mua-dong.html/\"\n",
        "# url = \"https://suckhoetoday.com/p/97-BENH-VA-CHUA-BENH-CHO-TRE-CON.html/\"\n",
        "# url = \"https://suckhoetoday.com/p/98-BENH-DICH-THEO-MUA.html/\"\n",
        "# url = \"https://suckhoetoday.com/p/185-Phong-benh-mua-he.html/\"\n",
        "url = \"http://diendansuckhoe24h.net/\"\n",
        "# url = \"https://suckhoetoday.com/p/93-CHE-DO-DINH-DUONG.html/\"\n",
        "page = urlopen(url)\n",
        "html = page.read().decode(\"utf-8\")\n",
        "soup = BeautifulSoup(html, \"html.parser\")\n",
        "init_url = url"
      ]
    },
    {
      "cell_type": "code",
      "source": [
        "soup.find_all(\"ol\", {\"id\": \"forums\"})[0].find_all(\"ol\", {\"class\": \"nodeList\"})[0].find_all(\"li\", {\"class\": \"node\"})[0].find_all(\"h3\", {\"class\": \"nodeTitle\"})[0].find_all(\"a\")[0].get(\"href\")"
      ],
      "metadata": {
        "id": "4LuaX3aFYzZn",
        "outputId": "6f1c228e-fc91-452d-b43e-fb3462921dda",
        "colab": {
          "base_uri": "https://localhost:8080/"
        }
      },
      "execution_count": null,
      "outputs": [
        {
          "output_type": "execute_result",
          "data": {
            "text/plain": [
              "'forums/suc-khoe-tre-em/'"
            ],
            "application/vnd.google.colaboratory.intrinsic+json": {
              "type": "string"
            }
          },
          "metadata": {},
          "execution_count": 17
        }
      ]
    },
    {
      "cell_type": "code",
      "source": [
        "ass = [a for x in soup.find_all(\"ol\", {\"id\": \"forums\"})[0].find_all(\"ol\", {\"class\": \"nodeList\"}) for a in x.find_all(\"li\", {\"class\": \"node\"})]"
      ],
      "metadata": {
        "id": "hsXkad0oa--g"
      },
      "execution_count": null,
      "outputs": []
    },
    {
      "cell_type": "code",
      "source": [
        "pages = [a.find_all(\"h3\", {\"class\": \"nodeTitle\"})[0].find_all(\"a\")[0].get(\"href\") for a in ass]"
      ],
      "metadata": {
        "id": "GRqTc-SHaY75"
      },
      "execution_count": 27,
      "outputs": []
    },
    {
      "cell_type": "code",
      "source": [
        "url = f\"{BASE_URL}{pages[0]}\"\n",
        "page = urlopen(url)\n",
        "html = page.read().decode(\"utf-8\")\n",
        "soup = BeautifulSoup(html, \"html.parser\")"
      ],
      "metadata": {
        "id": "8Aiifn_c8SpW"
      },
      "execution_count": 28,
      "outputs": []
    },
    {
      "cell_type": "code",
      "source": [
        "links = [a.find_all(\"h3\", {\"class\": \"title\"})[0].find_all(\"a\")[0].get(\"href\") for a in soup.find_all(\"ol\", {\"class\": \"discussionListItems\"})[0].find_all(\"li\", {\"class\": \"discussionListItem\"})]"
      ],
      "metadata": {
        "id": "R4m9B_cQcLvS"
      },
      "execution_count": 37,
      "outputs": []
    },
    {
      "cell_type": "code",
      "source": [
        "url = f\"{BASE_URL}{links[0]}\"\n",
        "page = urlopen(url)\n",
        "html = page.read().decode(\"utf-8\")\n",
        "soup = BeautifulSoup(html, \"html.parser\")"
      ],
      "metadata": {
        "id": "MZj24cnib9A-"
      },
      "execution_count": 38,
      "outputs": []
    },
    {
      "cell_type": "code",
      "source": [
        "soup.find(\"div\", {\"class\": \"messageContent\"}).get_text()"
      ],
      "metadata": {
        "id": "uRM4ArAleo9i",
        "outputId": "fc96e4bd-e8ec-41a3-99da-0df9d9907578",
        "colab": {
          "base_uri": "https://localhost:8080/",
          "height": 452
        }
      },
      "execution_count": 40,
      "outputs": [
        {
          "output_type": "execute_result",
          "data": {
            "text/plain": [
              "'\\n\\n\\nBố mẹ có nghĩ rằng, một ngày nào đó mình sẽ mua những món đồ chơi xịn cho bé như nhà bóng, xích đu, cầu trượt về tại không gian sống nhà mình chưa?\\'\\n\\n- Mẹ ơi, cuối tuần mẹ cho con đi nhà bóng nhé!\\n\\nCó thể thấy rõ một điều qua câu nói hằng ngày của bé rằng, nhà bóng là trò chơi mà con rất thích. Thích đến mức mà con quên mất rằng, trong khu vui chơi đó còn rất nhiều trò chơi khác. Và con chỉ ghi nhớ và gọi tên mỗi cái mà con yêu thích nhất. Thật tuyệt nếu như trong chính căn nhà của mình, bé được sở hữu 1 trong 3 món đồ chơi: nhà bóng, xích đu hay cầu trượt cho riêng mình phải không.\\n\\nĐồ chơi xịn cho bé: Nhà bóng, xích đu, cầu trượt\\n\\nTrước đây, khi muốn chơi những trò chơi này con thường sẽ phải đến khu vui chơi hoặc công viên. Thì khi đó con mới có không gian cũng như đồ chơi để chơi cùng. Tuy nhiên, với sự phát triển mạnh mẽ của thế giới đồ chơi hiện nay đã có rất nhiều sản phẩm thú vị được tạo ra.\\n\\nNhà bóng, xích đu, cầu trượt được thiết kế và tạo nên với kích thước bé hơn rất nhiều. Phù hợp với hộ gia đình và đặc biệt là dễ dàng tháo lắp và di chuyển. Bố mẹ có thể dễ dàng tìm mua ở những cửa hàng đồ chơi cho bé tại Việt Nam. Tuy nhiên, các sản phẩm này hầu hết được làm ra từ những thương hiệu đồ chơi nhập khẩu cho bé.\\n\\nĐi cùng với điều này, nhiều bố mẹ đặt ra câu hỏi rằng: Liệu giá thành đồ chơi có đắt không?\\n\\nCó nên mua 3 loại đồ chơi này cho bé không?\\n\\nĐể trả lời cho câu hỏi của bố mẹ là: \"Liệu 3 món đồ chơi xịn cho bé này có đắt không?\" thì câu trả lời là có. Số tiền mà mẹ cần bỏ ra để mua các sản phẩm này giao động từ vài triệu đến 20,30 triệu đồng. Tùy theo giá của nhà sản xuất đưa ra.\\n\\nMột số thương hiệu đồ chơi chính hãng cho bé sản xuất đó là: Little Tikes, Smoby, Yaya, Heanim Toy,... Vượt qua kiểu dáng đồ chơi truyền thống, các nhà sản xuất đã sáng tạo và kết hợp cùng lúc 3 loại hình trò chơi này lại với nhau. Trở thành bộ đồ chơi đa năng giúp các bé thỏa sức vui chơi và phát triển tối đa kỹ năng của mình.\\n\\nNếu bỏ qua vấn đề về giá thì đây thực sự là món đồ chơi xịn cho bé rất đáng để bố mẹ đầu tư. Các bé sẽ cảm thấy vô cùng hạnh phúc và sung sướng khi chính tại căn nhà của mình xuất hiện những món đồ chơi mà mình yêu thích nhất. Khi đó, con sẽ dần quên đi sự xuất hiện của các thiết bị điện tử. Phần lớn, trẻ em bị phụ thuộc nhiều vào ipad, tivi lý do chính đều do các món đồ chơi đã bị cũ. Con không còn sự hứng thú khi chơi cùng với chung nữa.\\n\\nBí quyết giúp mẹ mua đồ chơi chính hãng giá rẻ\\n\\nSẽ thật sự tiếc nếu như chúng ta bỏ lỡ những món đồ chơi thú vị bởi lý do kinh tế.Tuy nhiên, bố mẹ cũng có nhiều sự phân vân khi mua đồ chơi đắt tiền cho bé bởi vì, thời gian sử dụng của con quá ngắn. Thường món đồ chơi nào cho dù đặc biệt đến đâu thì nhiều nhất cũng chỉ 1 tháng con đã cảm thấy chán. Sau đó gần như là không sử dụng nữa.\\n\\nBí quyết giúp mẹ mua được đồ chơi xịn cho bé mà giá cả lại phải chăng đó chính là chuyển sang mô hình thuê đồ chơi. Bố mẹ có thể tìm hiểu tại cửa hàng: \\n\\nWowpik - Dịch vụ thuê đồ chơi định kỳ cho bé Hà Nội\\nWebsite: Wowpik.vn\\nỞ đây họ có hơn 115+ thương hiệu đồ chơi chính hãng khác nhau và được thuê trong vòng 1 tháng. Mỗi tháng mẹ sẽ chọn cho con tối đa 5 món đồ chơi bất kỳ, ngoài ra bé còn được tặng thêm 1 món đồ chơi MIỄN PHÍ từ Wowpik. Chỉ hơn 500,000 mỗi tháng bé có cơ hội được chơi với rất nhiều món đồ chơi khác nhau. \\n\\nHoặc nếu như mẹ muốn những món đồ chơi như: cầu trượt, xích đu, nhà bóng đều có thể chọn thuê ở đây. Điều tuyệt vời mà Wowpik mang lại đó là ví dụ như mẹ chọn thuê gói 3 tháng. Thì trong 3 tháng đó bé được chơi với 3 chiếc cầu trượt, xích đu hay nhà bóng hoàn toàn khác nhau. Mà chi phí bỏ ra chỉ bằng 1/10 số tiền mẹ bỏ ra để mua mới.\\n\\t\\t\\t\\t\\t\\xa0\\n\\n\\n'"
            ],
            "application/vnd.google.colaboratory.intrinsic+json": {
              "type": "string"
            }
          },
          "metadata": {},
          "execution_count": 40
        }
      ]
    },
    {
      "cell_type": "code",
      "source": [
        "links = [a.get(\"href\") for a in soup.find_all(\"a\", {\"class\": \"title\"})]\n",
        "links"
      ],
      "metadata": {
        "id": "CJoMwyjd2qTM"
      },
      "execution_count": null,
      "outputs": []
    }
  ]
}