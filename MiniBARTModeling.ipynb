{
  "nbformat": 4,
  "nbformat_minor": 0,
  "metadata": {
    "colab": {
      "provenance": [],
      "authorship_tag": "ABX9TyOHk51pSEG6mXiwLZ1E3QSi",
      "include_colab_link": true
    },
    "kernelspec": {
      "name": "python3",
      "display_name": "Python 3"
    },
    "language_info": {
      "name": "python"
    }
  },
  "cells": [
    {
      "cell_type": "markdown",
      "metadata": {
        "id": "view-in-github",
        "colab_type": "text"
      },
      "source": [
        "<a href=\"https://colab.research.google.com/github/GuyRobot/AINotesBook/blob/main/MiniBARTModeling.ipynb\" target=\"_parent\"><img src=\"https://colab.research.google.com/assets/colab-badge.svg\" alt=\"Open In Colab\"/></a>"
      ]
    },
    {
      "cell_type": "code",
      "execution_count": null,
      "metadata": {
        "id": "3jU-E49l0T5v"
      },
      "outputs": [],
      "source": [
        "import torch\n",
        "import torch.nn as nn\n",
        "import torch.optim as optim\n",
        "from torch.utils.data import DataLoader, Dataset\n",
        "import random\n",
        "\n",
        "# Define a simple toy dataset for text summarization\n",
        "class ToyDataset(Dataset):\n",
        "    def __init__(self, num_samples, max_seq_len):\n",
        "        self.data = []\n",
        "        for _ in range(num_samples):\n",
        "            src_len = random.randint(5, max_seq_len)\n",
        "            src = torch.randint(1, 100, (src_len,))  # Random source sequence\n",
        "            tgt_len = random.randint(2, src_len // 2)\n",
        "            tgt = torch.randint(1, 100, (tgt_len,))  # Random target summary\n",
        "            self.data.append((src, tgt))\n",
        "\n",
        "    def __len__(self):\n",
        "        return len(self.data)\n",
        "\n",
        "    def __getitem__(self, idx):\n",
        "        return self.data[idx]\n",
        "\n",
        "# Create a toy dataset\n",
        "toy_dataset = ToyDataset(num_samples=100, max_seq_len=50)\n",
        "train_dataloader = DataLoader(toy_dataset, batch_size=8, shuffle=True)"
      ]
    },
    {
      "cell_type": "code",
      "source": [
        "class PositionalEncoding(nn.Module):\n",
        "    def __init__(self, d_model, max_len=512):\n",
        "        super(PositionalEncoding, self).__init__()\n",
        "        self.dropout = nn.Dropout(p=0.1)\n",
        "        pe = torch.zeros(max_len, d_model)\n",
        "        position = torch.arange(0, max_len).unsqueeze(1).float()\n",
        "        div_term = torch.exp(torch.arange(0, d_model, 2).float() * (-math.log(10000.0) / d_model))\n",
        "        pe[:, 0::2] = torch.sin(position * div_term)\n",
        "        pe[:, 1::2] = torch.cos(position * div_term)\n",
        "        pe = pe.unsqueeze(0).transpose(0, 1)\n",
        "        self.register_buffer('pe', pe)\n",
        "\n",
        "    def forward(self, x):\n",
        "        x = x + self.pe[:x.size(0), :]\n",
        "        return self.dropout(x)\n",
        "\n",
        "# Define a basic Transformer Encoder\n",
        "class TransformerEncoder(nn.Module):\n",
        "    def __init__(self, d_model, nhead, num_encoder_layers):\n",
        "        super(TransformerEncoder, self).__init__()\n",
        "        self.transformer_encoder = nn.TransformerEncoder(\n",
        "            nn.TransformerEncoderLayer(d_model, nhead),\n",
        "            num_encoder_layers)\n",
        "\n",
        "    def forward(self, src):\n",
        "        return self.transformer_encoder(src)\n",
        "\n",
        "# Define a basic Transformer Decoder\n",
        "class TransformerDecoder(nn.Module):\n",
        "    def __init__(self, d_model, nhead, num_decoder_layers):\n",
        "        super(TransformerDecoder, self).__init__()\n",
        "        self.transformer_decoder = nn.TransformerDecoder(\n",
        "            nn.TransformerDecoderLayer(d_model, nhead),\n",
        "            num_decoder_layers)\n",
        "\n",
        "    def forward(self, tgt, memory):\n",
        "        return self.transformer_decoder(tgt, memory)\n",
        "\n",
        "# Define the BART model\n",
        "class BART(nn.Module):\n",
        "    def __init__(self, vocab_size, d_model, nhead, num_encoder_layers, num_decoder_layers):\n",
        "        super(BART, self).__init__()\n",
        "        self.embedding = nn.Embedding(vocab_size, d_model)\n",
        "        self.positional_encoding = PositionalEncoding(d_model)\n",
        "        self.encoder = TransformerEncoder(d_model, nhead, num_encoder_layers)\n",
        "        self.decoder = TransformerDecoder(d_model, nhead, num_decoder_layers)\n",
        "        self.fc = nn.Linear(d_model, vocab_size)\n",
        "\n",
        "    def forward(self, src, tgt):\n",
        "        src_embed = self.positional_encoding(self.embedding(src))\n",
        "        tgt_embed = self.positional_encoding(self.embedding(tgt))\n",
        "        memory = self.encoder(src_embed)\n",
        "        output = self.decoder(tgt_embed, memory)\n",
        "        return self.fc(output)\n",
        "\n",
        "# Example usage\n",
        "vocab_size = 10000\n",
        "d_model = 512\n",
        "nhead = 8\n",
        "num_encoder_layers = 6\n",
        "num_decoder_layers = 6\n",
        "\n",
        "model = BART(vocab_size, d_model, nhead, num_encoder_layers, num_decoder_layers)"
      ],
      "metadata": {
        "id": "qgFICe610ZYe"
      },
      "execution_count": null,
      "outputs": []
    },
    {
      "cell_type": "code",
      "source": [
        "# Define loss function and optimizer\n",
        "criterion = nn.CrossEntropyLoss()\n",
        "optimizer = optim.Adam(model.parameters(), lr=0.001)\n",
        "\n",
        "# Training loop\n",
        "num_epochs = 10\n",
        "\n",
        "for epoch in range(num_epochs):\n",
        "    model.train()\n",
        "    total_loss = 0\n",
        "\n",
        "    for batch_idx, (src, tgt) in enumerate(train_dataloader):\n",
        "        optimizer.zero_grad()\n",
        "\n",
        "        # Forward pass\n",
        "        output = model(src, tgt[:-1])  # Exclude the last token in target\n",
        "\n",
        "        # Compute loss\n",
        "        loss = criterion(output.view(-1, vocab_size), tgt[1:].view(-1))  # Shift target by one position\n",
        "\n",
        "        # Backpropagation\n",
        "        loss.backward()\n",
        "        optimizer.step()\n",
        "\n",
        "        total_loss += loss.item()\n",
        "\n",
        "    average_loss = total_loss / len(train_dataloader)\n",
        "    print(f\"Epoch {epoch + 1}/{num_epochs}, Loss: {average_loss:.4f}\")\n",
        "\n",
        "# Save the trained model\n",
        "torch.save(model.state_dict(), \"bart_mini_dataset.pth\")"
      ],
      "metadata": {
        "id": "QSbAAE910n4T"
      },
      "execution_count": null,
      "outputs": []
    }
  ]
}