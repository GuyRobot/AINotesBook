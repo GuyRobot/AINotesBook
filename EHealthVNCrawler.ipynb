{
  "nbformat": 4,
  "nbformat_minor": 0,
  "metadata": {
    "colab": {
      "provenance": [],
      "authorship_tag": "ABX9TyNiffLDjL+UE7KgfCjPg7/J",
      "include_colab_link": true
    },
    "kernelspec": {
      "name": "python3",
      "display_name": "Python 3"
    },
    "language_info": {
      "name": "python"
    }
  },
  "cells": [
    {
      "cell_type": "markdown",
      "metadata": {
        "id": "view-in-github",
        "colab_type": "text"
      },
      "source": [
        "<a href=\"https://colab.research.google.com/github/GuyRobot/AINotesBook/blob/main/EHealthVNCrawler.ipynb\" target=\"_parent\"><img src=\"https://colab.research.google.com/assets/colab-badge.svg\" alt=\"Open In Colab\"/></a>"
      ]
    },
    {
      "cell_type": "code",
      "execution_count": 13,
      "metadata": {
        "id": "5zRoSyAKesbC"
      },
      "outputs": [],
      "source": [
        "from bs4 import BeautifulSoup\n",
        "from urllib.request import urlopen\n",
        "import re\n",
        "step = 40\n",
        "BASE_URL = \"https://suckhoetoday.com/\"\n",
        "\n",
        "# url = \"https://suckhoetoday.com/p/179-Phong-benh-mua-dong.html\"\n",
        "# url = \"https://suckhoetoday.com/p/97-BENH-VA-CHUA-BENH-CHO-TRE-CON.html/\"\n",
        "# url = \"https://suckhoetoday.com/p/98-BENH-DICH-THEO-MUA.html\"\n",
        "url = \"https://suckhoetoday.com/p/185-Phong-benh-mua-he.html\"\n",
        "page = urlopen(url)\n",
        "html = page.read().decode(\"utf-8\")\n",
        "soup = BeautifulSoup(html, \"html.parser\")"
      ]
    },
    {
      "cell_type": "code",
      "source": [
        "links = [a.get(\"href\") for a in soup.find_all(\"a\", {\"class\": \"title\"})]\n",
        "links"
      ],
      "metadata": {
        "colab": {
          "base_uri": "https://localhost:8080/"
        },
        "id": "pLN8Ju2Pe6Nt",
        "outputId": "80401239-43d8-4673-8155-844ec5ed97fd"
      },
      "execution_count": 14,
      "outputs": [
        {
          "output_type": "execute_result",
          "data": {
            "text/plain": [
              "['threads/118410-Giai-dap-Ngu-trua-bao-nhieu-la-du-Luu-y-khi-ngu-trua.html?s=f1149595332b0aa46dc0a2a4fddb7c27',\n",
              " 'threads/112990-Chua-nam-mong-dut-diem-bang-phuong-phap-nao.html?s=f1149595332b0aa46dc0a2a4fddb7c27',\n",
              " 'threads/109176-Lap-cua-chong-muoi-phong-tranh-benh-do-muoi-gay-ra.html?s=f1149595332b0aa46dc0a2a4fddb7c27',\n",
              " 'threads/100257-Ba-t-mi-2-ba-i-thuo-c-dong-y-chu-a-be-nh-cha-m-an-toa-n.html?s=f1149595332b0aa46dc0a2a4fddb7c27',\n",
              " 'threads/87616-Canh-giac-voi-cac-dau-hieu-say-nang-do-thoi-tiet-nong.html?s=f1149595332b0aa46dc0a2a4fddb7c27',\n",
              " 'threads/86640-Benh-ngoai-da-mua-he-thuong-gap.html?s=f1149595332b0aa46dc0a2a4fddb7c27',\n",
              " 'threads/58623-Cac-buoc-chua-leo-mat-cho-tre-nho-hieu-qua.html?s=f1149595332b0aa46dc0a2a4fddb7c27',\n",
              " 'threads/84731-Phong-Kham-Da-Khoa-Au-A-Uy-Tin-Chat-Luong.html?s=f1149595332b0aa46dc0a2a4fddb7c27',\n",
              " 'threads/67948-Ky-thuat-xu-li-con-ngua-di-ung-noi-me-day-tai-gia.html?s=f1149595332b0aa46dc0a2a4fddb7c27',\n",
              " 'threads/67944-Noi-me-day-la-gi-Nguyen-nhan-trieu-chung-va-cach-chua-benh-khoi-han.html?s=f1149595332b0aa46dc0a2a4fddb7c27',\n",
              " 'threads/67703-Tam-soat-ung-thu-da-day-voi-phuong-phap-noi-soi-khong-dau.html?s=f1149595332b0aa46dc0a2a4fddb7c27',\n",
              " 'threads/67681-Cach-phong-tranh-benh-da-day-hieu-qua-cho-dan-van-phong.html?s=f1149595332b0aa46dc0a2a4fddb7c27',\n",
              " 'threads/66994-Bac-si-canh-bao-nguy-hiem-bi-dot-quy-khi-thoi-tiet-giao-mua.html?s=f1149595332b0aa46dc0a2a4fddb7c27',\n",
              " 'threads/51200-Benh-phu-khoa-thuong-thay-khi-buoc-vao-he.html?s=f1149595332b0aa46dc0a2a4fddb7c27',\n",
              " 'threads/55625-Phan-biet-benh-sot-xuat-huyet-va-sot-phat-ban.html?s=f1149595332b0aa46dc0a2a4fddb7c27',\n",
              " 'threads/55724-dau-hieu-nhan-biet-benh-sui-mao-ga.html?s=f1149595332b0aa46dc0a2a4fddb7c27',\n",
              " 'threads/55401-Phan-biet-sot-xuat-huyet-va-sot-vi-rut.html?s=f1149595332b0aa46dc0a2a4fddb7c27',\n",
              " 'threads/55289-ban-biet-nhung-gi-ve-benh-sui-mao-ga.html?s=f1149595332b0aa46dc0a2a4fddb7c27',\n",
              " 'threads/54223-phong-ngua-viem-nhiem-phu-khoa-vao-mua-he.html?s=f1149595332b0aa46dc0a2a4fddb7c27',\n",
              " 'threads/53620-3-dieu-me-nao-cung-nen-nho-de-cham-soc-suc-khoe-cho-be-yeu-trong-mua-he.html?s=f1149595332b0aa46dc0a2a4fddb7c27',\n",
              " 'threads/53483-Cac-benh-tre-thuong-mac-phai-vao-mua-he.html?s=f1149595332b0aa46dc0a2a4fddb7c27',\n",
              " 'threads/43450-Cac-loai-nuoc-giai-khat-khong-danh-cho-benh-nhan-viem-dai-trang.html?s=f1149595332b0aa46dc0a2a4fddb7c27',\n",
              " 'threads/52349-Bao-quan-thuc-pham-mua-he-sai-cach-se-de-nhiem-doc.html?s=f1149595332b0aa46dc0a2a4fddb7c27',\n",
              " 'threads/50086-Cach-Duoi-Muoi-Hieu-Qua-Phong-Chong-Benh-Virut-ZIKA-quot.html?s=f1149595332b0aa46dc0a2a4fddb7c27',\n",
              " 'threads/49990-Cach-phong-benh-Sot-xuat-huyet.html?s=f1149595332b0aa46dc0a2a4fddb7c27',\n",
              " 'threads/43004-Viem-dai-trang-cap-tinh-benh-thuong-gap-mua-he.html?s=f1149595332b0aa46dc0a2a4fddb7c27',\n",
              " 'threads/41691-Cua-luoi-chan-con-trung-duoc-nhieu-gia-dinh-lua-chon.html?s=f1149595332b0aa46dc0a2a4fddb7c27',\n",
              " 'threads/41085-Nhung-luu-y-khi-noi-soi-dai-trang-phat-hien-cac-benh-duong-an-uong.html?s=f1149595332b0aa46dc0a2a4fddb7c27',\n",
              " 'threads/36650-Phong-benh-sot-xuat-huyet-bang-cua-luoi-chong-muoi-dang-lua.html?s=f1149595332b0aa46dc0a2a4fddb7c27',\n",
              " 'threads/40923-Ngo-doc-thuc-pham-vi-thoi-tiet-nang-nong.html?s=f1149595332b0aa46dc0a2a4fddb7c27',\n",
              " 'threads/125211-Gia-tham-khao-may-lanh-am-tran-Daikin-dong-thuong-FCNQ.html?s=f1149595332b0aa46dc0a2a4fddb7c27',\n",
              " 'threads/126217-Dich-vu-dien-hoa-hoa-toc-F-FLOWERS.html?s=f1149595332b0aa46dc0a2a4fddb7c27',\n",
              " 'threads/126219-Tui-xach-Super-thay-cho-tui-xach-Xin.html?s=f1149595332b0aa46dc0a2a4fddb7c27',\n",
              " 'threads/126303-Dong-Trung-Ha-Thao-Tay-Tang-cao-cap-moi-ve-da-dang-mau.html?s=f1149595332b0aa46dc0a2a4fddb7c27',\n",
              " 'threads/127687-Chan-dung-khach-hang-va-nhung-dieu-nha-quan-ly-nen-biet.html?s=f1149595332b0aa46dc0a2a4fddb7c27']"
            ]
          },
          "metadata": {},
          "execution_count": 14
        }
      ]
    },
    {
      "cell_type": "code",
      "source": [
        "[a.get_text() for a in soup.find_all(\"a\", {\"class\": \"title\"})]"
      ],
      "metadata": {
        "colab": {
          "base_uri": "https://localhost:8080/"
        },
        "id": "nKNJJ-23hc8m",
        "outputId": "68d04284-487e-4156-d5a2-52a928386082"
      },
      "execution_count": 15,
      "outputs": [
        {
          "output_type": "execute_result",
          "data": {
            "text/plain": [
              "['[Giải đáp] Ngủ trưa bao nhiêu là đủ? Lưu ý khi ngủ trưa',\n",
              " 'Chữa nấm móng dứt điểm bằng phương pháp nào?',\n",
              " 'Lắp cửa chống muỗi phòng tránh bệnh do muỗi gây ra',\n",
              " 'Bật mí 2 bài thuốc đông y chữa bệnh chàm an toàn',\n",
              " 'Cảnh giác với các dấu hiệu say nắng do thời tiết nóng',\n",
              " 'Bệnh ngoài da mùa hè thường gặp',\n",
              " 'Các bước chữa lẹo mắt cho trẻ nhỏ hiệu quả',\n",
              " 'Phòng Khám Đa Khoa Âu Á Uy Tín Chất Lượng',\n",
              " 'Kỹ thuật xử lí cơn ngứa dị ứng nổi mề đay tại gia',\n",
              " 'Nổi mề đay là gì? Nguyên nhân, triệu chứng và cách chữa bệnh khỏi hẳn',\n",
              " 'Tầm soát ung thư dạ dày với phương pháp nội soi không đau',\n",
              " 'Cách phòng tránh bệnh dạ dày hiệu quả cho dân văn phòng',\n",
              " 'Bác sĩ cảnh báo nguy hiểm bị đột quỵ khi thời tiết giao mùa',\n",
              " 'Bệnh phụ khoa thường thấy khi bước vào hè',\n",
              " 'Phân biệt bệnh sốt xuất huyết và sốt phát ban',\n",
              " 'dấu hiệu nhận biết bệnh sùi mào gà',\n",
              " 'Phân biệt sốt xuất huyết và sốt vi rút',\n",
              " 'bạn biết những gì về bệnh sùi mào gà',\n",
              " 'phòng ngừa viêm nhiễm phụ khoa vào mùa hè',\n",
              " '3 điều mẹ nào cũng nên nhớ để chăm sóc sức khỏe cho bé yêu trong mùa hè',\n",
              " 'Các bệnh trẻ thường mắc phải vào mùa hè',\n",
              " 'Các loại nước giải khát không dành cho bệnh nhân viêm đại tràng',\n",
              " 'Bảo quản thực phẩm mùa hè sai cách sẽ dễ nhiễm độc',\n",
              " 'Cách Đuổi Muỗi Hiệu Quả Phòng Chống Bệnh \"Virut ZIKA\"',\n",
              " 'Cách phòng bệnh Sốt xuất huyết',\n",
              " 'Viêm đại tràng cấp tính - bệnh thường gặp mùa hè',\n",
              " 'Cửa lưới chắn côn trùng được nhiều gia đình lựa chọn',\n",
              " 'Những lưu ý khi nội soi đại tràng phát hiện các bệnh đường ăn uống',\n",
              " 'Phòng bệnh sốt xuất huyết bằng cửa lưới chống muỗi dạng lùa',\n",
              " 'Ngộ độc thực phẩm vì thời tiết nắng nóng',\n",
              " 'Giá tham khảo máy lạnh âm trần Daikin dòng thường FCNQ',\n",
              " 'Dịch vụ điện hoa hỏa tốc F FLOWERS',\n",
              " 'Túi xách Super thay cho túi xách Xịn',\n",
              " 'Đông Trùng Hạ Thảo Tây Tạng cao cấp mới về đa dạng mẫu',\n",
              " 'Chân dung khách hàng và những điều nhà quản lý nên biết']"
            ]
          },
          "metadata": {},
          "execution_count": 15
        }
      ]
    },
    {
      "cell_type": "code",
      "source": [
        "url = f\"{BASE_URL}{links[0]}\"\n",
        "page = urlopen(url)\n",
        "html = page.read().decode(\"utf-8\")\n",
        "soup = BeautifulSoup(html, \"html.parser\")\n",
        "p = soup.find_all(\"div\", {\"class\": \"postbody\"})[0].find_all(\"div\", {\"class\": \"content\"})[0].find_all(\"p\")[0]\n",
        "for x in p.find_all(\"li\"):\n",
        "  if x is not None:\n",
        "    x.decompose()\n",
        "p.get_text().strip()"
      ],
      "metadata": {
        "colab": {
          "base_uri": "https://localhost:8080/",
          "height": 261
        },
        "id": "Fak9Er6xfvM7",
        "outputId": "8a4262e2-84c6-4462-c733-63ad8b3c1073"
      },
      "execution_count": 16,
      "outputs": [
        {
          "output_type": "execute_result",
          "data": {
            "text/plain": [
              "'Nên ngủ trưa bao lâu là đủ?\\n\\nNgủ từ 10 - 20 phút\\n\\nNgủ trưa bao nhiêu là đủ? Chuyên gia cho rằng, một giấc ngủ trưa có thời lượng từ 20-30 phút là đủ để phục hồi sức khỏe và tăng độ tỉnh táo. Giấc ngủ trong khoảng thời gian này cũng sẽ giúp cho việc làm được hoàn thành hiệu quả hơn. Giấc ngủ trưa kéo dài từ 10-20 phút là lựa chọn tốt nhất cho nhân viên văn phòng hoặc những người cần quay lại làm việc ngay sau khi thức giấc. Giấc ngủ ngắn này sẽ giúp tỉnh táo và tăng năng lượng, tránh giấc ngủ sâu và trạng thái mệt mỏi khi vừa thức dậy. Tuy nhiên, việc phải thức dậy ngay sau khi vừa ngủ có thể gây khó chịu. Để dễ hơn khi thức dậy, bạn có thể chọn ngủ trưa kết thật cao hoặc ngồi khi ngủ.\\n\\nGiấc ngủ khoa học Nasa 26 phút\\n\\r\\nNghiên cứu cho thấy, khi phi công ngủ trưa trong 26 phút, sẽ tăng lên 54% năng lực tỉnh táo và 34% khả năng phản ứng. Vì vậy, giờ ngủ trưa này được coi là thời gian ngủ nghỉ tốt nhất cho những người phải tăng ca hay làm việc ngoài giờ.\\n\\nGiấc ngủ 30 phút\\n\\r\\nNgủ trưa khoảng 30 phút là một lựa chọn tốt cho não bộ. Nghỉ ngơi trong thời gian này đã được chứng minh giúp giảm căng thẳng, tăng tập trung, cải thiện bộ nhớ, ngăn ngừa mất trí và giảm nguy cơ ung thư tiểu đường. Tuy nhiên, cũng có ý kiến cho rằng ngủ trưa trong 30 phút có thể gây khó khăn khi dậy, tạo ra trạng thái uể oải và ảnh hưởng xấu đến tinh thần và chất lượng công việc.\\n\\nNgủ trưa kéo dài 60 phút\\n\\r\\nNgười có nhiều thời gian hoặc chuẩn bị cho các buổi thuyết trình hay họp nên giữ giấc ngủ trưa 60 phút để có trạng thái tốt nhất. Đây được coi là khoảng thời gian ngủ trưa lý tưởng để cơ thể vào trạng thái ngủ sâu, hỗ trợ xử lý thông tin, cải thiện khả năng phản xạ và ghi nhớ.\\n\\nNgủ trưa trong vòng 90 phút\\n\\r\\nKhoảng thời gian ngủ trưa 90 phút là tối ưu để hoàn thành chu kỳ giấc ngủ. Những người duy trì thói quen ngủ trưa trong khoảng thời gian này thường có cảm xúc tốt hơn, sự sáng tạo cao và trí nhớ tốt.\\n\\nLưu ý giúp bạn có giấc ngủ trưa chất lượng\\n\\r\\nKhi duy trì thói quen ngủ trưa, giữ thời gian hợp lý tùy vào trạng thái tinh thần, thể chất và nhu cầu công việc, hãy lưu ý:\\n\\n\\nNguồn: Nhà thuốc Long Châu\\n\\n\\nBài viết khác cùng Box :'"
            ],
            "application/vnd.google.colaboratory.intrinsic+json": {
              "type": "string"
            }
          },
          "metadata": {},
          "execution_count": 16
        }
      ]
    },
    {
      "cell_type": "code",
      "source": [
        "import json\n",
        "data = []\n",
        "for p in range(1, 10):\n",
        "  print(f\"Crawl {p}\")\n",
        "  try:\n",
        "    url = f\"https://suckhoetoday.com/p/185-Phong-benh-mua-he.html/page{p}\"\n",
        "    page = urlopen(url)\n",
        "    html = page.read().decode(\"utf-8\")\n",
        "    soup = BeautifulSoup(html, \"html.parser\")\n",
        "    ass = soup.find_all(\"a\", {\"class\": \"title\"})\n",
        "    links = [a.get(\"href\") for a in ass]\n",
        "    questions = [a.get_text() for a in ass]\n",
        "    for i, link in enumerate(links):\n",
        "      try:\n",
        "        url = f\"{BASE_URL}{link}\"\n",
        "        page = urlopen(url)\n",
        "        html = page.read().decode(\"utf-8\")\n",
        "        soup = BeautifulSoup(html, \"html.parser\")\n",
        "        p = soup.find_all(\"div\", {\"class\": \"postbody\"})[0].find_all(\"div\", {\"class\": \"content\"})[0].find_all(\"p\")[0]\n",
        "        for x in p.find_all(\"li\"):\n",
        "          if x is not None:\n",
        "            x.decompose()\n",
        "\n",
        "        data.append({\"question\": re.sub(r'Question:', '', re.sub(r'(\\n\\s*)+\\n+', '\\n', re.sub(r'\\r', r'\\n', questions[i].strip())), re.I),\n",
        "                     \"answer\": re.sub(r'Detailed Answer:', '', re.sub(r'Brief Answer:', '', re.sub(r'(\\n\\s*)+\\n+', '\\n', re.sub(r'\\r', r'\\n', p.get_text().strip())), re.I), re.I), \"url\": url})\n",
        "      except:\n",
        "        pass\n",
        "    if p % 2 == 0:\n",
        "      with open(\"crawled.json\", \"w\") as f:\n",
        "        json.dump(data, f, indent=4)\n",
        "  except:\n",
        "    pass\n",
        "\n",
        "with open(\"crawled.json\", \"w\", encoding='utf-8') as f:\n",
        "        json.dump(data, f, indent=4, ensure_ascii=False)"
      ],
      "metadata": {
        "colab": {
          "base_uri": "https://localhost:8080/"
        },
        "id": "JdWdWqtnfSCq",
        "outputId": "53220c5f-ebd0-4fdf-eb7f-f082f848057f"
      },
      "execution_count": 17,
      "outputs": [
        {
          "output_type": "stream",
          "name": "stdout",
          "text": [
            "Crawl 1\n",
            "Crawl 2\n",
            "Crawl 3\n",
            "Crawl 4\n",
            "Crawl 5\n",
            "Crawl 6\n",
            "Crawl 7\n",
            "Crawl 8\n",
            "Crawl 9\n"
          ]
        }
      ]
    },
    {
      "cell_type": "code",
      "source": [
        "with open(\"crawled.json\", \"w\", encoding='utf-8') as f:\n",
        "        json.dump(data, f, indent=4, ensure_ascii=False)"
      ],
      "metadata": {
        "id": "LMSsmMe9jVA0"
      },
      "execution_count": 18,
      "outputs": []
    },
    {
      "cell_type": "code",
      "source": [],
      "metadata": {
        "id": "nV1TNVcaioem"
      },
      "execution_count": 18,
      "outputs": []
    }
  ]
}