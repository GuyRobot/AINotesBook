{
  "nbformat": 4,
  "nbformat_minor": 0,
  "metadata": {
    "colab": {
      "provenance": [],
      "authorship_tag": "ABX9TyPdzhOhIhv5iST7GVPjy2W2",
      "include_colab_link": true
    },
    "kernelspec": {
      "name": "python3",
      "display_name": "Python 3"
    },
    "language_info": {
      "name": "python"
    }
  },
  "cells": [
    {
      "cell_type": "markdown",
      "metadata": {
        "id": "view-in-github",
        "colab_type": "text"
      },
      "source": [
        "<a href=\"https://colab.research.google.com/github/GuyRobot/AINotesBook/blob/main/EHealthVNCrawler.ipynb\" target=\"_parent\"><img src=\"https://colab.research.google.com/assets/colab-badge.svg\" alt=\"Open In Colab\"/></a>"
      ]
    },
    {
      "cell_type": "code",
      "execution_count": 16,
      "metadata": {
        "id": "5zRoSyAKesbC"
      },
      "outputs": [],
      "source": [
        "from bs4 import BeautifulSoup\n",
        "from urllib.request import urlopen\n",
        "import re\n",
        "step = 40\n",
        "BASE_URL = \"https://suckhoetoday.com/\"\n",
        "\n",
        "url = \"https://suckhoetoday.com/p/179-Phong-benh-mua-dong.html\"\n",
        "page = urlopen(url)\n",
        "html = page.read().decode(\"utf-8\")\n",
        "soup = BeautifulSoup(html, \"html.parser\")"
      ]
    },
    {
      "cell_type": "code",
      "source": [
        "links = [a.get(\"href\") for a in soup.find_all(\"a\", {\"class\": \"title\"})]\n",
        "links"
      ],
      "metadata": {
        "colab": {
          "base_uri": "https://localhost:8080/"
        },
        "id": "pLN8Ju2Pe6Nt",
        "outputId": "3054554a-93a2-4207-962d-6f5496f04092"
      },
      "execution_count": 4,
      "outputs": [
        {
          "output_type": "execute_result",
          "data": {
            "text/plain": [
              "['threads/122176-Dau-hieu-nhan-biet-benh-lau.html?s=9b24b1ee56d07f9fadcbe01dfc18a36e',\n",
              " 'threads/115236-Cach-phong-benh-cho-tre-trong-mua-Dong.html?s=9b24b1ee56d07f9fadcbe01dfc18a36e',\n",
              " 'threads/121615-Co-nen-tam-ngay-sau-khi-quan-he-tinh-duc-khong.html?s=9b24b1ee56d07f9fadcbe01dfc18a36e',\n",
              " 'threads/116772-Top-5-Bac-Si-Ho-Tro-Dieu-Tri-Viem-Da-Co-Dia-Tot-Nhat-Nam-Dinh.html?s=9b24b1ee56d07f9fadcbe01dfc18a36e',\n",
              " 'threads/104575-cach-chua-viem-duong-tiet-nieu-bang-la-oi-don-gian.html?s=9b24b1ee56d07f9fadcbe01dfc18a36e',\n",
              " 'threads/107554-Bi-quyet-cham-soc-tre-khi-thoi-tiet-giao-mua.html?s=9b24b1ee56d07f9fadcbe01dfc18a36e',\n",
              " 'threads/121370-So-net-ve-thuoc-la-ma-me-bau-can-biet.html?s=9b24b1ee56d07f9fadcbe01dfc18a36e',\n",
              " 'threads/120595-Thieu-Canxi-Gay-Ra-Nhung-Benh-Gi.html?s=9b24b1ee56d07f9fadcbe01dfc18a36e',\n",
              " 'threads/117712-Thuoc-tri-ung-thu-di-can-Herceptin-150mg.html?s=9b24b1ee56d07f9fadcbe01dfc18a36e',\n",
              " 'threads/117200-Su-that-ve-hoa-cut-lon-chua-viem-xoang.html?s=9b24b1ee56d07f9fadcbe01dfc18a36e',\n",
              " 'threads/117054-Benh-ngua-da-mua-dong-dau-la-thu-pham-cua-tinh-trang-nay.html?s=9b24b1ee56d07f9fadcbe01dfc18a36e',\n",
              " 'threads/116708-Thoai-hoa-dot-song-co-la-can-benh-co-xuong-khop-nhieu-nguoi-bi.html?s=9b24b1ee56d07f9fadcbe01dfc18a36e',\n",
              " 'threads/116473-Bi-di-ung-ngua-Cach-dieu-tri-nao-hieu-qua.html?s=9b24b1ee56d07f9fadcbe01dfc18a36e',\n",
              " 'threads/116328-Tai-sao-vao-mua-dong-chung-ta-thuong-bi-dau-nhuc-xuong-khop.html?s=9b24b1ee56d07f9fadcbe01dfc18a36e',\n",
              " 'threads/116295-Viem-xoang-mat-khuu-giac-phai-lam-sao.html?s=9b24b1ee56d07f9fadcbe01dfc18a36e',\n",
              " 'threads/116278-Phong-te-thap-Ac-mong-cua-bao-nguoi-vao-mua-dong.html?s=9b24b1ee56d07f9fadcbe01dfc18a36e',\n",
              " 'threads/116131-Lua-chon-dem-nao-la-phu-hop-cho-mua-dong-nay.html?s=9b24b1ee56d07f9fadcbe01dfc18a36e',\n",
              " 'threads/115351-TOP-9-thuoc-giai-doc-gan-tot-nhat-hien-nay.html?s=9b24b1ee56d07f9fadcbe01dfc18a36e',\n",
              " 'threads/115182-Tri-ngua-di-ung-thoi-tiet-bang-phuong-phap-nao-hieu-qua.html?s=9b24b1ee56d07f9fadcbe01dfc18a36e',\n",
              " 'threads/115181-3-loai-KHOANG-CHAT-can-thiet-nhat-de-co-the-MIEN-DICH-voi-Benh-mua-dong.html?s=9b24b1ee56d07f9fadcbe01dfc18a36e',\n",
              " 'threads/114536-Bi-quyet-trang-tri-phong-lam-viec-dep-hut-mat.html?s=9b24b1ee56d07f9fadcbe01dfc18a36e',\n",
              " 'threads/114332-Viem-xoang-gay-ho-Nguyen-nhan-trieu-chung-amp-cach-dieu-tri.html?s=9b24b1ee56d07f9fadcbe01dfc18a36e',\n",
              " 'threads/114115-Gia-bo-dinh-dong-ngu-sac-hien-nay-the-nao.html?s=9b24b1ee56d07f9fadcbe01dfc18a36e',\n",
              " 'threads/114107-Huong-dan-dat-bo-ngu-su-kham-ngu-sac-chuan-phong-thuy.html?s=9b24b1ee56d07f9fadcbe01dfc18a36e',\n",
              " 'threads/106841-Meo-hay-de-tang-thi-luc.html?s=9b24b1ee56d07f9fadcbe01dfc18a36e',\n",
              " 'threads/106626-Thoai-khoa-xuong-khop-Am-tham-nhung-nguy-hiem.html?s=9b24b1ee56d07f9fadcbe01dfc18a36e',\n",
              " 'threads/106261-Dau-hieu-nhan-biet-som-ung-thu-vu-canh-bao-chi-em-phu-nu.html?s=9b24b1ee56d07f9fadcbe01dfc18a36e',\n",
              " 'threads/106114-Cham-soc-benh-nhan-ung-thu-sau-hoa-tri-nhu-the-nao.html?s=9b24b1ee56d07f9fadcbe01dfc18a36e',\n",
              " 'threads/106112-Nguyen-nhan-gay-ra-cac-benh-ve-mat-va-cach-cham-soc-mat-don-gian.html?s=9b24b1ee56d07f9fadcbe01dfc18a36e',\n",
              " 'threads/105118-Cach-cham-soc-cho-con-mau-lon-khoe-manh-va-thong-minh.html?s=9b24b1ee56d07f9fadcbe01dfc18a36e',\n",
              " 'threads/125211-Gia-tham-khao-may-lanh-am-tran-Daikin-dong-thuong-FCNQ.html?s=9b24b1ee56d07f9fadcbe01dfc18a36e',\n",
              " 'threads/126217-Dich-vu-dien-hoa-hoa-toc-F-FLOWERS.html?s=9b24b1ee56d07f9fadcbe01dfc18a36e',\n",
              " 'threads/126219-Tui-xach-Super-thay-cho-tui-xach-Xin.html?s=9b24b1ee56d07f9fadcbe01dfc18a36e',\n",
              " 'threads/126303-Dong-Trung-Ha-Thao-Tay-Tang-cao-cap-moi-ve-da-dang-mau.html?s=9b24b1ee56d07f9fadcbe01dfc18a36e',\n",
              " 'threads/127687-Chan-dung-khach-hang-va-nhung-dieu-nha-quan-ly-nen-biet.html?s=9b24b1ee56d07f9fadcbe01dfc18a36e']"
            ]
          },
          "metadata": {},
          "execution_count": 4
        }
      ]
    },
    {
      "cell_type": "code",
      "source": [
        "[a.get_text() for a in soup.find_all(\"a\", {\"class\": \"title\"})]"
      ],
      "metadata": {
        "colab": {
          "base_uri": "https://localhost:8080/"
        },
        "id": "nKNJJ-23hc8m",
        "outputId": "843cc96d-0268-4d0d-96ad-d35c08961ed4"
      },
      "execution_count": 17,
      "outputs": [
        {
          "output_type": "execute_result",
          "data": {
            "text/plain": [
              "['Dấu hiệu nhận biết bệnh lậu',\n",
              " 'Cách phòng bệnh cho trẻ trong mùa Đông',\n",
              " 'Có nên tắm ngay sau khi quan hệ tình dục không?',\n",
              " 'Top 5 Bác Sĩ Hỗ Trợ Điều Trị Viêm Da Cơ Địa Tốt Nhất Nam Định',\n",
              " 'cách chữa viêm đường tiết niệu bằng lá ổi đơn giản',\n",
              " 'Bí quyết chăm sóc trẻ khi thời tiết giao mùa',\n",
              " 'Sơ nét về thuốc lá mà mẹ bầu cần biết',\n",
              " 'Thiếu Canxi Gây Ra Những Bệnh Gì',\n",
              " 'Thuốc trị ung thư di căn Herceptin 150mg',\n",
              " 'Sự thật về hoa cứt lợn chữa viêm xoang',\n",
              " 'Bệnh ngứa da mùa đông, đâu là \"thủ phạm\" của tình trạng này',\n",
              " 'Thoái hóa đốt sống cổ là căn bệnh cơ xương khớp nhiều người bị.',\n",
              " 'Bị dị ứng ngứa - Cách điều trị nào hiệu quả?',\n",
              " 'Tại sao vào mùa đông chúng ta thường bị đau nhức xương khớp?',\n",
              " 'Viêm xoang mất khứu giác phải làm sao?',\n",
              " 'Phong tê thấp - Ác mộng của bao người vào mùa đông',\n",
              " 'Lựa chọn đệm nào là phù hợp cho mùa đông này?',\n",
              " 'TOP 9 thuốc giải độc gan tốt nhất hiện nay',\n",
              " 'Trị ngứa dị ứng thời tiết bằng phương pháp nào hiệu quả?',\n",
              " '3 loại KHOÁNG CHẤT cần thiết nhất để cơ thể MIỄN DỊCH với Bệnh mùa đông',\n",
              " 'Bí quyết trang trí phòng làm việc đẹp hút mắt',\n",
              " 'Viêm xoang gây ho: Nguyên nhân, triệu chứng & cách điều trị',\n",
              " 'Giá bộ đỉnh đồng ngũ sắc hiện nay thế nào?',\n",
              " 'Hướng dẫn đặt bộ ngũ sự khảm ngũ sắc chuẩn phong thủy',\n",
              " 'Mẹo hay để tăng thị lực',\n",
              " 'Thoái khóa xương khớp - Âm thầm nhưng nguy hiểm',\n",
              " 'Dấu hiệu nhận biết sớm ung thư vú cảnh báo chị em phụ nữ',\n",
              " 'Chăm sóc bệnh nhân ung thư sau hóa trị như thế nào?',\n",
              " 'Nguyên nhân gây ra các bệnh về mắt và cách chăm sóc mắt đơn giản',\n",
              " 'Cách chăm sóc chó con mau lớn, khỏe mạnh và thông minh',\n",
              " 'Giá tham khảo máy lạnh âm trần Daikin dòng thường FCNQ',\n",
              " 'Dịch vụ điện hoa hỏa tốc F FLOWERS',\n",
              " 'Túi xách Super thay cho túi xách Xịn',\n",
              " 'Đông Trùng Hạ Thảo Tây Tạng cao cấp mới về đa dạng mẫu',\n",
              " 'Chân dung khách hàng và những điều nhà quản lý nên biết']"
            ]
          },
          "metadata": {},
          "execution_count": 17
        }
      ]
    },
    {
      "cell_type": "code",
      "source": [
        "url = f\"{BASE_URL}{links[0]}\"\n",
        "page = urlopen(url)\n",
        "html = page.read().decode(\"utf-8\")\n",
        "soup = BeautifulSoup(html, \"html.parser\")\n",
        "p = soup.find_all(\"div\", {\"class\": \"postbody\"})[0].find_all(\"div\", {\"class\": \"content\"})[0].find_all(\"p\")[0]\n",
        "for x in p.find_all(\"li\"):\n",
        "  if x is not None:\n",
        "    x.decompose()\n",
        "p.get_text().strip()"
      ],
      "metadata": {
        "colab": {
          "base_uri": "https://localhost:8080/",
          "height": 174
        },
        "id": "Fak9Er6xfvM7",
        "outputId": "3ba698a5-a45d-44af-f658-9c9115e3a35b"
      },
      "execution_count": 14,
      "outputs": [
        {
          "output_type": "execute_result",
          "data": {
            "text/plain": [
              "'Lậu là một trong những bệnh lây qua đường tình dục và rất khó có thể phát hiện. Theo nghiên cứu gần đây cho thấy, hầu hết nam hay nữ giới mắc bệnh lậu giai đoạn đầu đều không nhận thấy bất cứ dấu hiệu nào.\\r\\nHàng năm có tới 820.000 trường hợp mắc bệnh lậu, đến 50% trong trường hợp này là trong độ tuổi từ 18-30. Loại vi khuẩn này có tính kháng thuốc khá cao, việc điều trị chỉ bằng thuốc kháng sinh là không thể.\\n\\r\\nTheo các bác sĩ chuyên khoa, nếu bệnh lậu không được điều trị kịp thời có thể gặp phải những di chứng nguy hiểm\\n\\r\\nCách nhận biết dấu hiệu bệnh lậu\\n\\r\\nĐọc thêm: 5 dấu hiệu nhận biết bệnh lậu\\n\\n\\nBài viết khác cùng Box :'"
            ],
            "application/vnd.google.colaboratory.intrinsic+json": {
              "type": "string"
            }
          },
          "metadata": {},
          "execution_count": 14
        }
      ]
    },
    {
      "cell_type": "code",
      "source": [
        "import json\n",
        "data = []\n",
        "for p in range(1, 10):\n",
        "  print(f\"Crawl {p}\")\n",
        "  try:\n",
        "    url = f\"https://suckhoetoday.com/p/179-Phong-benh-mua-dong.html/page{p}\"\n",
        "    page = urlopen(url)\n",
        "    html = page.read().decode(\"utf-8\")\n",
        "    soup = BeautifulSoup(html, \"html.parser\")\n",
        "    ass = soup.find_all(\"a\", {\"class\": \"title\"})\n",
        "    links = [a.get(\"href\") for a in ass]\n",
        "    questions = [a.get_text() for a in ass]\n",
        "    for i, link in enumerate(links):\n",
        "      try:\n",
        "        url = f\"{BASE_URL}{link}\"\n",
        "        page = urlopen(url)\n",
        "        html = page.read().decode(\"utf-8\")\n",
        "        soup = BeautifulSoup(html, \"html.parser\")\n",
        "        p = soup.find_all(\"div\", {\"class\": \"postbody\"})[0].find_all(\"div\", {\"class\": \"content\"})[0].find_all(\"p\")[0]\n",
        "        for x in p.find_all(\"li\"):\n",
        "          if x is not None:\n",
        "            x.decompose()\n",
        "\n",
        "        data.append({\"question\": re.sub(r'Question:', '', re.sub(r'(\\n\\s*)+\\n+', '\\n', re.sub(r'\\r', r'\\n', questions[i].strip())), re.I),\n",
        "                     \"answer\": re.sub(r'Detailed Answer:', '', re.sub(r'Brief Answer:', '', re.sub(r'(\\n\\s*)+\\n+', '\\n', re.sub(r'\\r', r'\\n', p.get_text().strip())), re.I), re.I), \"url\": url})\n",
        "      except:\n",
        "        pass\n",
        "    if p % 2 == 0:\n",
        "      with open(\"crawled.json\", \"w\") as f:\n",
        "        json.dump(data, f, indent=4)\n",
        "  except:\n",
        "    pass\n",
        "\n",
        "with open(\"crawled.json\", \"w\", encoding='utf-8') as f:\n",
        "        json.dump(data, f, indent=4, ensure_ascii=False)"
      ],
      "metadata": {
        "colab": {
          "base_uri": "https://localhost:8080/"
        },
        "id": "JdWdWqtnfSCq",
        "outputId": "d500bfd0-16cf-45cc-dacb-51dd92151262"
      },
      "execution_count": 21,
      "outputs": [
        {
          "output_type": "stream",
          "name": "stdout",
          "text": [
            "Crawl 1\n",
            "Crawl 2\n",
            "Crawl 3\n",
            "Crawl 4\n",
            "Crawl 5\n",
            "Crawl 6\n",
            "Crawl 7\n",
            "Crawl 8\n",
            "Crawl 9\n"
          ]
        }
      ]
    },
    {
      "cell_type": "code",
      "source": [
        "with open(\"crawled.json\", \"w\", encoding='utf-8') as f:\n",
        "        json.dump(data, f, indent=4, ensure_ascii=False)"
      ],
      "metadata": {
        "id": "LMSsmMe9jVA0"
      },
      "execution_count": 23,
      "outputs": []
    },
    {
      "cell_type": "code",
      "source": [],
      "metadata": {
        "id": "nV1TNVcaioem"
      },
      "execution_count": null,
      "outputs": []
    }
  ]
}