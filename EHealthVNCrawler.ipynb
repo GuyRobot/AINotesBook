{
  "nbformat": 4,
  "nbformat_minor": 0,
  "metadata": {
    "colab": {
      "provenance": [],
      "authorship_tag": "ABX9TyMa/yeiuYYwZDouuDb9p9R6",
      "include_colab_link": true
    },
    "kernelspec": {
      "name": "python3",
      "display_name": "Python 3"
    },
    "language_info": {
      "name": "python"
    }
  },
  "cells": [
    {
      "cell_type": "markdown",
      "metadata": {
        "id": "view-in-github",
        "colab_type": "text"
      },
      "source": [
        "<a href=\"https://colab.research.google.com/github/GuyRobot/AINotesBook/blob/main/EHealthVNCrawler.ipynb\" target=\"_parent\"><img src=\"https://colab.research.google.com/assets/colab-badge.svg\" alt=\"Open In Colab\"/></a>"
      ]
    },
    {
      "cell_type": "code",
      "execution_count": 1,
      "metadata": {
        "id": "5zRoSyAKesbC"
      },
      "outputs": [],
      "source": [
        "from bs4 import BeautifulSoup\n",
        "from urllib.request import urlopen\n",
        "import re\n",
        "step = 40\n",
        "BASE_URL = \"https://suckhoetoday.com/\"\n",
        "\n",
        "# url = \"https://suckhoetoday.com/p/179-Phong-benh-mua-dong.html/\"\n",
        "# url = \"https://suckhoetoday.com/p/97-BENH-VA-CHUA-BENH-CHO-TRE-CON.html/\"\n",
        "# url = \"https://suckhoetoday.com/p/98-BENH-DICH-THEO-MUA.html/\"\n",
        "# url = \"https://suckhoetoday.com/p/185-Phong-benh-mua-he.html/\"\n",
        "# url = \"https://suckhoetoday.com/p/95-CHAM-SOC-SUC-KHOE-GIA-DINH.html/\"\n",
        "url = \"https://suckhoetoday.com/p/93-CHE-DO-DINH-DUONG.html/\"\n",
        "page = urlopen(url)\n",
        "html = page.read().decode(\"utf-8\")\n",
        "soup = BeautifulSoup(html, \"html.parser\")"
      ]
    },
    {
      "cell_type": "code",
      "source": [
        "links = [a.get(\"href\") for a in soup.find_all(\"a\", {\"class\": \"title\"})]\n",
        "links"
      ],
      "metadata": {
        "colab": {
          "base_uri": "https://localhost:8080/"
        },
        "id": "pLN8Ju2Pe6Nt",
        "outputId": "fb646fb9-8b51-4c38-aeef-c59f006144cf"
      },
      "execution_count": 2,
      "outputs": [
        {
          "output_type": "execute_result",
          "data": {
            "text/plain": [
              "['threads/128694-Vi-Sao-Ba-Bau-Thuong-Hay-Bi-Om-Nghen.html?s=7f7449e92079fc3ff7d7f4e0d85783cf',\n",
              " 'threads/128650-Omega-3-Co-Tac-Dung-Gi-Voi-Me-Bau.html?s=7f7449e92079fc3ff7d7f4e0d85783cf',\n",
              " 'threads/128548-Acid-Folic-La-Gi-Vi-Sao-Me-Bau-Can-Bo-Sung-Acid-Folic.html?s=7f7449e92079fc3ff7d7f4e0d85783cf',\n",
              " 'threads/128501-Tieu-duong-co-anh-huong-nhu-the-nao-toi-thai-ky.html?s=7f7449e92079fc3ff7d7f4e0d85783cf',\n",
              " 'threads/128432-Uong-Sua-Hat-Co-Beo-Khong.html?s=7f7449e92079fc3ff7d7f4e0d85783cf',\n",
              " 'threads/128409-Thuc-pham-giup-tang-chieu-cao-cho-be-nhanh-chong.html?s=7f7449e92079fc3ff7d7f4e0d85783cf',\n",
              " 'threads/128331-Thuc-Pham-Bo-Sung-Mau-Cho-Ba-Bau.html?s=7f7449e92079fc3ff7d7f4e0d85783cf',\n",
              " 'threads/128232-Ham-Luong-Vitamin-Va-Khoang-Chat-Cho-Ba-Bau-Trong-Thai-Ky.html?s=7f7449e92079fc3ff7d7f4e0d85783cf',\n",
              " 'threads/128037-Thong-tin-cho-me-bau-mang-thai-uong-hat-chia-duoc-khong.html?s=7f7449e92079fc3ff7d7f4e0d85783cf',\n",
              " 'threads/128010-Tai-Sao-Me-Bau-Gap-Van-De-Thieu-Mau-Khi-Mang-Thai.html?s=7f7449e92079fc3ff7d7f4e0d85783cf',\n",
              " 'threads/127986-Sua-Gumilac-Mama-Gia-Bao-Nhieu.html?s=7f7449e92079fc3ff7d7f4e0d85783cf',\n",
              " 'threads/127959-Review-Sua-Hat-Gumilac-Mama.html?s=7f7449e92079fc3ff7d7f4e0d85783cf',\n",
              " 'threads/127933-Thuc-Pham-Bo-Sung-Sat-Cho-Ba-Bau-Gom-Nhung-Loai-Nao.html?s=7f7449e92079fc3ff7d7f4e0d85783cf',\n",
              " 'threads/127897-Nhu-Cau-Dinh-Duong-Cua-Ba-Bau-Khi-Mang-Thai.html?s=7f7449e92079fc3ff7d7f4e0d85783cf',\n",
              " 'threads/127874-Thuc-Pham-Bo-Sung-Cho-Ba-Bau-Trong-3-Thang-Dau.html?s=7f7449e92079fc3ff7d7f4e0d85783cf',\n",
              " 'threads/127856-10-Goi-Y-Cac-Mon-An-Sang-Nhanh-Gon-Tien-Loi-Va-De-Lam.html?s=7f7449e92079fc3ff7d7f4e0d85783cf',\n",
              " 'threads/127845-Cac-Loai-Sua-Bau-Tot-De-Uong-Giau-Dinh-Duong.html?s=7f7449e92079fc3ff7d7f4e0d85783cf',\n",
              " 'threads/127826-Sua-Bau-De-Uong-Vao-Con-Khong-Vao-Me.html?s=7f7449e92079fc3ff7d7f4e0d85783cf',\n",
              " 'threads/127727-Tai-sao-DHA-lai-qua-trong-voi-ba-bau-va-thai-nhi.html?s=7f7449e92079fc3ff7d7f4e0d85783cf',\n",
              " 'threads/127712-Nhung-thuc-pham-bo-sung-canxi-cho-ba-bau.html?s=7f7449e92079fc3ff7d7f4e0d85783cf',\n",
              " 'threads/127674-Sua-Hat-Gumilac-Mama-Mua-O-Dau.html?s=7f7449e92079fc3ff7d7f4e0d85783cf',\n",
              " 'threads/127652-Review-sua-hat-cho-ba-bau-tot-cho-me-va-thai-nhi.html?s=7f7449e92079fc3ff7d7f4e0d85783cf',\n",
              " 'threads/127343-Bau-3-thang-dau-uong-tra-sua-duoc-khong.html?s=7f7449e92079fc3ff7d7f4e0d85783cf',\n",
              " 'threads/127251-Nhung-thuc-pham-tot-cho-ba-bau-khi-mang-thai.html?s=7f7449e92079fc3ff7d7f4e0d85783cf',\n",
              " 'threads/127223-Lich-Uong-Vitamin-Cho-Ba-Bau.html?s=7f7449e92079fc3ff7d7f4e0d85783cf',\n",
              " 'threads/127141-Cac-loai-Vitamin-cho-ba-bau-can-bo-sung-khi-mang-thai.html?s=7f7449e92079fc3ff7d7f4e0d85783cf',\n",
              " 'threads/127106-Tai-sao-can-lua-chon-sua-hat-khong-duong-cho-ba-bau.html?s=7f7449e92079fc3ff7d7f4e0d85783cf',\n",
              " 'threads/127072-Nhung-luu-y-khi-su-dung-vitamin-cho-ba-bau.html?s=7f7449e92079fc3ff7d7f4e0d85783cf',\n",
              " 'threads/127025-Nen-uong-sua-bau-vao-thang-thu-may-la-tot-nhat.html?s=7f7449e92079fc3ff7d7f4e0d85783cf',\n",
              " 'threads/126994-Ba-bau-3-thang-dau-an-kem-duoc-khong.html?s=7f7449e92079fc3ff7d7f4e0d85783cf',\n",
              " 'threads/125211-Gia-tham-khao-may-lanh-am-tran-Daikin-dong-thuong-FCNQ.html?s=7f7449e92079fc3ff7d7f4e0d85783cf',\n",
              " 'threads/126217-Dich-vu-dien-hoa-hoa-toc-F-FLOWERS.html?s=7f7449e92079fc3ff7d7f4e0d85783cf',\n",
              " 'threads/126219-Tui-xach-Super-thay-cho-tui-xach-Xin.html?s=7f7449e92079fc3ff7d7f4e0d85783cf',\n",
              " 'threads/126303-Dong-Trung-Ha-Thao-Tay-Tang-cao-cap-moi-ve-da-dang-mau.html?s=7f7449e92079fc3ff7d7f4e0d85783cf',\n",
              " 'threads/127687-Chan-dung-khach-hang-va-nhung-dieu-nha-quan-ly-nen-biet.html?s=7f7449e92079fc3ff7d7f4e0d85783cf']"
            ]
          },
          "metadata": {},
          "execution_count": 2
        }
      ]
    },
    {
      "cell_type": "code",
      "source": [
        "[a.get_text() for a in soup.find_all(\"a\", {\"class\": \"title\"})]"
      ],
      "metadata": {
        "colab": {
          "base_uri": "https://localhost:8080/"
        },
        "id": "nKNJJ-23hc8m",
        "outputId": "7ab8baed-1789-4d8d-cac8-5c350eda0341"
      },
      "execution_count": 3,
      "outputs": [
        {
          "output_type": "execute_result",
          "data": {
            "text/plain": [
              "['Vì Sao Bà Bầu Thường Hay Bị Ốm Nghén?',\n",
              " 'Omega-3 Có Tác Dụng Gì Với Mẹ Bầu?',\n",
              " 'Acid Folic Là Gì? Vì Sao Mẹ Bầu Cần Bổ Sung Acid Folic',\n",
              " 'Tiểu đường có ảnh hưởng như thế nào tới thai kỳ?',\n",
              " 'Uống Sữa Hạt Có Béo Không',\n",
              " 'Thực phẩm giúp tăng chiều cao cho bé nhanh chóng',\n",
              " 'Thực Phẩm Bổ Sung Máu Cho Bà Bầu',\n",
              " 'Hàm Lượng Vitamin Và Khoáng Chất Cho Bà Bầu Trong Thai Kỳ',\n",
              " 'Thông tin cho mẹ bầu - mang thai uống hạt chia được không?',\n",
              " 'Tại Sao Mẹ Bầu Gặp Vấn Đề Thiếu Máu Khi Mang Thai?',\n",
              " 'Sữa Gumilac Mama Giá Bao Nhiêu?',\n",
              " 'Review Sữa Hạt Gumilac Mama',\n",
              " 'Thực Phẩm Bổ Sung Sắt Cho Bà Bầu Gồm Những Loại Nào',\n",
              " 'Nhu Cầu Dinh Dưỡng Của Bà Bầu Khi Mang Thai',\n",
              " 'Thực Phẩm Bổ Sung Cho Bà Bầu Trong 3 Tháng Đầu',\n",
              " '10 Gợi Ý Các Món Ăn Sáng Nhanh Gọn Tiện Lợi Và Dễ Làm',\n",
              " 'Các Loại Sữa Bầu Tốt Dễ Uống Giàu Dinh Dưỡng',\n",
              " 'Sữa Bầu Dễ Uống Vào Con Không Vào Mẹ',\n",
              " 'Tại sao DHA lại qua trọng với bà bầu và thai nhi?',\n",
              " 'Những thực phẩm bổ sung canxi cho bà bầu',\n",
              " 'Sữa Hạt Gumilac Mama Mua Ở Đâu?',\n",
              " 'Review sữa hạt cho bà bầu tốt cho mẹ và thai nhi',\n",
              " 'Bầu 3 tháng đầu uống trà sữa được không?',\n",
              " 'Những thực phẩm tốt cho bà bầu khi mang thai',\n",
              " 'Lịch Uống Vitamin Cho Bà Bầu',\n",
              " 'Các loại Vitamin cho bà bầu cần bổ sung khi mang thai',\n",
              " 'Tại sao cần lựa chọn sữa hạt không đường cho bà bầu?',\n",
              " 'Những lưu ý khi sử dụng vitamin cho bà bầu',\n",
              " 'Nên uống sữa bầu vào tháng thứ mấy là tốt nhất?',\n",
              " 'Bà bầu 3 tháng đầu ăn kem được không?',\n",
              " 'Giá tham khảo máy lạnh âm trần Daikin dòng thường FCNQ',\n",
              " 'Dịch vụ điện hoa hỏa tốc F FLOWERS',\n",
              " 'Túi xách Super thay cho túi xách Xịn',\n",
              " 'Đông Trùng Hạ Thảo Tây Tạng cao cấp mới về đa dạng mẫu',\n",
              " 'Chân dung khách hàng và những điều nhà quản lý nên biết']"
            ]
          },
          "metadata": {},
          "execution_count": 3
        }
      ]
    },
    {
      "cell_type": "code",
      "source": [
        "url = f\"{BASE_URL}{links[0]}\"\n",
        "page = urlopen(url)\n",
        "html = page.read().decode(\"utf-8\")\n",
        "soup = BeautifulSoup(html, \"html.parser\")\n",
        "p = soup.find_all(\"div\", {\"class\": \"postbody\"})[0].find_all(\"div\", {\"class\": \"content\"})[0].find_all(\"p\")[0]\n",
        "for x in p.find_all(\"li\"):\n",
        "  if x is not None:\n",
        "    x.decompose()\n",
        "p.get_text().strip()"
      ],
      "metadata": {
        "colab": {
          "base_uri": "https://localhost:8080/",
          "height": 261
        },
        "id": "Fak9Er6xfvM7",
        "outputId": "cc63d0b0-5e47-4f79-ea73-a4fb4871e793"
      },
      "execution_count": 4,
      "outputs": [
        {
          "output_type": "execute_result",
          "data": {
            "text/plain": [
              "'Nghén là một trong những triệu chứng rất thường hay gặp ở mẹ bầu, nhất là giai đoạn 3 tháng đầu hay còn gọi là tam cá nguyệt thứ nhất. Vậy nguyên nhân nào khiến mẹ bầu gặp phải tình trạng này?\\n\\n\\nNghén là tình trạng rất hay gặp ở mẹ bầu giai đoạn đầu thai kỳ\\nNồng độ Hormone HCG tăng cao\\r\\nKhi mang thai, nồng độ Hormone HCG tăng cao, thậm chí có thể tăng gấp đôi so với bình thường, đây là một trong những nguyên nhân chính gây ra triệu chứng ốm nghén ở các mẹ bầu. Mẹ sẽ thường xuyên có cảm giác buồn nôn, chóng mặt, mệt mỏi khó chịu. Bên cạnh đó, nồng độ HCG cao hay thấp còn giúp nhận biết tuổi thai và các vấn đề sức khỏe khác.\\n\\nKhứu giác nhạy cảm hơn\\r\\nKhứu giác của mẹ bầu khi mang thai thường nhạy cảm hơn so với bình thường, nhất là khi ngửi phải những mùi lạ hoặc những mùi khó chịu như xăng dầu, thực phẩm lên men, nước hoa…\\n\\r\\nMặt khác, theo nghiên cứu, khứu giác của mẹ bầu có một mối liên hệ với  hormone estrogen, vậy nên trong 3 tháng đầu thai kỳ, nồng độ estrogen tăng lên sẽ dẫn đến khứu giác dễ bị ảnh hưởng bởi mùi lạ, và mẹ sẽ bị nghén, sợ mùi.\\n\\nSự thay đổi của hệ tiêu hóa\\r\\nHệ tiêu hóa của mẹ bầu cũng kém hơn trong giai đoạn mang thai, dẫn đến tình trạng tích tụ thức ăn trong dạ dày, đây cũng là một trong những nguyên nhân dẫn đến tình trạng nôn nghén ở mẹ bầu. Vậy nên mẹ cần chú ý đến chế độ ăn uống hàng ngày, nên ăn những đồ ăn dễ tiêu hóa và chia nhỏ các bữa ăn để giảm bớt tình trạng ốm nghén.\\n\\nXem thêm: Sữa bầu nào dễ uống \\n\\nSữa cho bà bầu ốm nghén – Mẹ ốm nghén nên uống sữa gì?\\r\\nSữa bầu là một trong những loại thực phẩm cung cấp dồi dào các chất dinh dưỡng. Tuy nhiên, vì nghén nên mẹ cũng sẽ khá khó khăn trong việc lựa chọn loại sữa phù hợp. Me có thể tham khảo lựa chọn sữa theo các tiêu chí sau.\\n\\n\\nNên lựa chọn những loại sữa có độ ngọt vừa phải giúp dễ uống\\nLựa chọn sữa có độ ngọt vừa phải\\r\\nMẹ nên lựa chọn loại sữa có độ ngọt vừa phải, tốt nhất là loại sữa chứa ít hoặc không chứa đường tinh luyện. Sữa không quá ngọt sẽ giúp mẹ dễ uống hơn và giảm nguy cơ mắc tiểu đường thai kỳ, một biến chứng khá nguy hiểm khi mang thai.\\n\\nLựa chọn sữa hạt thay vì những loại sữa thông thường\\r\\nSữa hạt được đánh giá là loại sữa cho bà bầu bị ốm nghén, bởi vì nó thường sẽ không chứa hoặc chứa rất ít đường tinh luyện. Hơn nữa, sữa hạt khá thơm ngon và dễ uống, được làm từ các loại hạt tự nhiên nên vô cùng giàu dinh dưỡng, giúp mang lại cho mẹ một thai kỳ khỏe mạnh. Không chỉ vậy, hàm lượng chất xơ và đạm thực vật trong sữa hạt rất cao giúp mẹ giữ vóc dáng thon gọn cũng như hỗ trợ hệ tiêu hóa vô cùng tốt.\\n\\n\\nSữa hạt là một lựa chọn phù hợp với mẹ bầu bị ốm nghén\\nLựa chọn loại sữa chứa đầy đủ dưỡng chất\\r\\nViệc nghén ngẩm sẽ khiến mẹ không ăn uống được nhiều, tình trạng kéo dài sẽ gây ảnh hưởng không tốt đến sự phát triển của thai nhi và sức khỏe của mẹ. Thai nhi sẽ bị thiếu chất, chậm phát triển, mẹ sẽ suy nhược cơ thể, mệt mỏi…\\n\\r\\nVậy nên khi lựa chọn sữa cho bà bầu ốm nghén, mẹ nên chọn loại sữa có đầy đủ các thành phần dinh dưỡng cần thiết, cùng với đó hãy thiết lập một chế độ ăn uống hợp lý để thai nhi có thể hấp thu được đầy đủ các chất dinh dưỡng. Ngoài ra, nếu tình trạng ốm nghén nặng và không có dấu hiệu thuyên giảm, mẹ nên đến gặp các bác sĩ để được tư vấn và hỗ trợ.\\n\\n\\nLựa chọn loại sữa có đầy đủ dưỡng chất để thai nhi có thể phát triển tốt nhất\\r\\nXem thêm: sữa bầu dễ uống vào con không vào mẹ\\n\\nSữa hạt Gumilac Mama – Sữa cho bà bầu ốm nghén\\nSữa hạt Gumilac Mama chứa chiết xuất gừng chuẩn hóa, có tác dụng làm giảm kích thích niêm mạc dạ dày, từ đó mẹ bầu sẽ bớt đi cảm giác nôn nghén khó chịu. Cùng với đó là mùi thơm của các loại hạt rất dễ chịu và vị ngọt thanh vô cùng dễ uống. Không chỉ là loại sữa đặc biệt phù hợp với mẹ bầu bị ốm nghén giai đoạn đầu mang thai, sữa hạt Gumilac Mama còn là thực phẩm không thể thiếu trong suốt thai kỳ của mẹ.\\n\\n\\nSữa hạt Gumilac Mama – Thêm Gừng chuẩn hóa, giảm ốm nghén\\r\\nKhông chỉ vậy, dinh dưỡng từ các loại hạt tự nhiên sẽ vào con mà không vào mẹ, bé sẽ được hấp thu trọn vẹn dưỡng chất để phát triển. Ngoài những lợi ích về mặt dinh dưỡng, sữa hạt Gumilac Mama còn có tác dụng ổn định đường huyết nhờ hoạt chất Go2Ka1, nên mẹ bầu nào có nguy cơ bị tiểu đường thai kỳ, chỉ số đường huyết cao có thể hoàn toàn yên tâm sử dụng.\\n\\r\\nNếu như mẹ vẫn đang băn khoăn trong việc chọn sữa cho bà bầu ốm nghén, thì sữa hạt Gumilac Mama là sự lựa chọn vô cùng phù hợp, giúp mẹ có một thai kỳ khỏe mạnh.\\r\\n\\t\\t\\n\\nBài viết khác cùng Box :'"
            ],
            "application/vnd.google.colaboratory.intrinsic+json": {
              "type": "string"
            }
          },
          "metadata": {},
          "execution_count": 4
        }
      ]
    },
    {
      "cell_type": "code",
      "source": [
        "import json\n",
        "data = []\n",
        "for p in range(1, 24):\n",
        "  print(f\"Crawl {p}\")\n",
        "  try:\n",
        "    url = f\"{url}/page{p}\"\n",
        "    page = urlopen(url)\n",
        "    html = page.read().decode(\"utf-8\")\n",
        "    soup = BeautifulSoup(html, \"html.parser\")\n",
        "    ass = soup.find_all(\"a\", {\"class\": \"title\"})\n",
        "    links = [a.get(\"href\") for a in ass]\n",
        "    questions = [a.get_text() for a in ass]\n",
        "    for i, link in enumerate(links):\n",
        "      try:\n",
        "        url = f\"{BASE_URL}{link}\"\n",
        "        page = urlopen(url)\n",
        "        html = page.read().decode(\"utf-8\")\n",
        "        soup = BeautifulSoup(html, \"html.parser\")\n",
        "        p = soup.find_all(\"div\", {\"class\": \"postbody\"})[0].find_all(\"div\", {\"class\": \"content\"})[0].find_all(\"p\")[0]\n",
        "        for x in p.find_all(\"li\"):\n",
        "          if x is not None:\n",
        "            x.decompose()\n",
        "\n",
        "        data.append({\"question\": re.sub(r'Question:', '', re.sub(r'(\\n\\s*)+\\n+', '\\n', re.sub(r'\\r', r'\\n', questions[i].strip())), re.I),\n",
        "                     \"answer\": re.sub(r'Detailed Answer:', '', re.sub(r'Brief Answer:', '', re.sub(r'(\\n\\s*)+\\n+', '\\n', re.sub(r'\\r', r'\\n', p.get_text().strip())), re.I), re.I), \"url\": url})\n",
        "      except:\n",
        "        pass\n",
        "    if p % 2 == 0:\n",
        "      with open(\"crawled.json\", \"w\") as f:\n",
        "        json.dump(data, f, indent=4)\n",
        "  except:\n",
        "    pass\n",
        "\n",
        "with open(\"crawled.json\", \"w\", encoding='utf-8') as f:\n",
        "        json.dump(data, f, indent=4, ensure_ascii=False)"
      ],
      "metadata": {
        "colab": {
          "base_uri": "https://localhost:8080/"
        },
        "id": "JdWdWqtnfSCq",
        "outputId": "9547060c-eab3-4b74-a144-fa348179bc70"
      },
      "execution_count": 5,
      "outputs": [
        {
          "output_type": "stream",
          "name": "stdout",
          "text": [
            "Crawl 1\n",
            "Crawl 2\n",
            "Crawl 3\n",
            "Crawl 4\n",
            "Crawl 5\n",
            "Crawl 6\n",
            "Crawl 7\n",
            "Crawl 8\n",
            "Crawl 9\n",
            "Crawl 10\n",
            "Crawl 11\n",
            "Crawl 12\n",
            "Crawl 13\n",
            "Crawl 14\n",
            "Crawl 15\n",
            "Crawl 16\n",
            "Crawl 17\n",
            "Crawl 18\n",
            "Crawl 19\n",
            "Crawl 20\n",
            "Crawl 21\n",
            "Crawl 22\n",
            "Crawl 23\n"
          ]
        }
      ]
    },
    {
      "cell_type": "code",
      "source": [
        "with open(\"crawled.json\", \"w\", encoding='utf-8') as f:\n",
        "        json.dump(data, f, indent=4, ensure_ascii=False)"
      ],
      "metadata": {
        "id": "LMSsmMe9jVA0"
      },
      "execution_count": 6,
      "outputs": []
    },
    {
      "cell_type": "code",
      "source": [],
      "metadata": {
        "id": "nV1TNVcaioem"
      },
      "execution_count": 6,
      "outputs": []
    }
  ]
}