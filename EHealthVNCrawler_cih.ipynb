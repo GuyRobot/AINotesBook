{
  "nbformat": 4,
  "nbformat_minor": 0,
  "metadata": {
    "colab": {
      "provenance": [],
      "authorship_tag": "ABX9TyNyFHMrvy9u5AHWeE49jSfG",
      "include_colab_link": true
    },
    "kernelspec": {
      "name": "python3",
      "display_name": "Python 3"
    },
    "language_info": {
      "name": "python"
    }
  },
  "cells": [
    {
      "cell_type": "markdown",
      "metadata": {
        "id": "view-in-github",
        "colab_type": "text"
      },
      "source": [
        "<a href=\"https://colab.research.google.com/github/GuyRobot/AINotesBook/blob/main/EHealthVNCrawler_cih.ipynb\" target=\"_parent\"><img src=\"https://colab.research.google.com/assets/colab-badge.svg\" alt=\"Open In Colab\"/></a>"
      ]
    },
    {
      "cell_type": "code",
      "execution_count": 1,
      "metadata": {
        "id": "ZSjxriqa13BG"
      },
      "outputs": [],
      "source": [
        "from bs4 import BeautifulSoup\n",
        "from urllib.request import urlopen\n",
        "import re\n",
        "step = 40\n",
        "BASE_URL = \"https://cih.com.vn/\"\n",
        "url = \"https://cih.com.vn/forum/cam-nang-suc-khoe.html\"\n",
        "page = urlopen(url)\n",
        "html = page.read().decode(\"utf-8\")\n",
        "soup = BeautifulSoup(html, \"html.parser\")\n",
        "init_url = url"
      ]
    },
    {
      "cell_type": "code",
      "source": [
        "links = [a.get(\"href\") for a in soup.find_all(\"a\", {\"class\": \"topictitle\"})]"
      ],
      "metadata": {
        "id": "LTHpWHDBNC8f"
      },
      "execution_count": 4,
      "outputs": []
    },
    {
      "cell_type": "code",
      "source": [
        "url = f\"{BASE_URL}{links[0]}\"\n",
        "page = urlopen(url)\n",
        "html = page.read().decode(\"utf-8\")\n",
        "soup = BeautifulSoup(html, \"html.parser\")"
      ],
      "metadata": {
        "id": "MZj24cnib9A-"
      },
      "execution_count": 5,
      "outputs": []
    },
    {
      "cell_type": "code",
      "source": [
        "x = soup.find_all(\"div\", {\"class\": \"kmsg\"})[0].find(\"a\", {\"class\": \"fancybox-button\"})\n",
        "lll = soup.find_all(\"div\", {\"class\": \"kmsg\"})[0].find_all(recursive=False)\n",
        "\"\\n\".join(list(map(lambda x: x.get_text(), lll[:lll.index(x)])))"
      ],
      "metadata": {
        "id": "i5UdxMYyNm8i",
        "outputId": "052b18c7-1bab-4697-a178-7540fa418e7e",
        "colab": {
          "base_uri": "https://localhost:8080/",
          "height": 104
        }
      },
      "execution_count": 27,
      "outputs": [
        {
          "output_type": "execute_result",
          "data": {
            "text/plain": [
              "'VTC - Tiến sĩ Linda Carling tại Đại học Johns Hopkins (Mỹ) đề xuất một số mẹo để giúp trẻ tập trung chú ý khi học trực tuyến phòng, chống dịch COVID-19. Đây là thông tin hữu ích cho phụ huynh có con nhỏ đang bị\\xa0tình trạng tăng động, giảm chú ý (ADHD).\\n\\n\\nTrẻ bị tăng động, giảm chú ý - Làm sao để trẻ tập trung khi học online?\\n1. Xác định cách học thích hợp:\\n\\n\\n2. Khuyến khích vận động:\\n\\n\\n3. Hạn chế những thứ gây mất tập trung:\\n\\n'"
            ],
            "application/vnd.google.colaboratory.intrinsic+json": {
              "type": "string"
            }
          },
          "metadata": {},
          "execution_count": 27
        }
      ]
    },
    {
      "cell_type": "code",
      "source": [
        "import json\n",
        "data = []\n",
        "pages_map = {\n",
        "    \"https://cih.com.vn/forum/cam-nang-suc-khoe.html\": 15,\n",
        "    \"https://cih.com.vn/forum/the-gioi-me-va-be.html\": 14,\n",
        "    \"https://cih.com.vn/forum/dinh-duong-va-doi-song.html\": 10,\n",
        "    \"https://cih.com.vn/forum/phong-mach-online.html\": 10\n",
        "}"
      ],
      "metadata": {
        "id": "RFc3w1DLSIFR"
      },
      "execution_count": 31,
      "outputs": []
    },
    {
      "cell_type": "code",
      "source": [
        "for page_info in pages_map.keys():\n",
        "  for u in range(0, pages_map[page_info]):\n",
        "    print(f\"Iter {page_info}\")\n",
        "    page_url = f\"{page_info}?start={u * 20}\"\n",
        "    page_page = urlopen(page_url)\n",
        "    page_html = page_page.read().decode(\"utf-8\")\n",
        "    page_soup = BeautifulSoup(page_html, \"html.parser\")\n",
        "    links = [a.get(\"href\") for a in page_soup.find_all(\"a\", {\"class\": \"topictitle\"})]\n",
        "    questions = [a.get_text() for a in page_soup.find_all(\"a\", {\"class\": \"topictitle\"})]\n",
        "    for i, link in enumerate(links):\n",
        "      print(f\"Crawl {link}\")\n",
        "      url = f\"{BASE_URL}{link}\"\n",
        "      page = urlopen(url)\n",
        "      html = page.read().decode(\"utf-8\")\n",
        "      soup = BeautifulSoup(html, \"html.parser\")\n",
        "      x = soup.find_all(\"div\", {\"class\": \"kmsg\"})[0].find(\"a\", {\"class\": \"fancybox-button\"})\n",
        "      lll = soup.find_all(\"div\", {\"class\": \"kmsg\"})[0].find_all(recursive=False)\n",
        "      if x is not None and x in lll:\n",
        "        answer = \"\\n\".join(list(map(lambda x: x.get_text(), lll[:lll.index(x)])))\n",
        "      else:\n",
        "        answer = soup.find_all(\"div\", {\"class\": \"kmsg\"})[0].get_text()\n",
        "      data.append({\"question\": re.sub(r'Question:', '', re.sub(r'(\\n\\s*)+\\n+', '\\n', re.sub(r'\\r', r'\\n', questions[i].strip())), re.I),\n",
        "                        \"answer\": re.sub(r'Detailed Answer:', '', re.sub(r'Brief Answer:', '', re.sub(r'(\\n\\s*)+\\n+', '\\n', re.sub(r'\\r', r'\\n', answer.strip())), re.I), re.I), \"url\": url})\n",
        "    if u % 2 == 0:\n",
        "      with open(\"crawled.json\", \"w\", encoding='utf-8') as f:\n",
        "        json.dump(data, f, indent=4, ensure_ascii=False)"
      ],
      "metadata": {
        "id": "nHKKuu3hROtR",
        "outputId": "b799a342-96d3-42cf-e1ca-212b393501fd",
        "colab": {
          "base_uri": "https://localhost:8080/"
        }
      },
      "execution_count": null,
      "outputs": [
        {
          "output_type": "stream",
          "name": "stdout",
          "text": [
            "Iter https://cih.com.vn/forum/cam-nang-suc-khoe.html\n",
            "['/forum/cam-nang-suc-khoe/883-tra-hay-ma-t-ta-p-trung-khi-ha-c-ba-i-pha-i-la-m-saoa.html', '/forum/cam-nang-suc-khoe/882-au-ma-i-ca-ca-pha-i-la-ba-thoa-i-ha-a-ca-t-sa-ng-ca-a.html', '/forum/cam-nang-suc-khoe/879-kha-m-ta-ng-qua-t-ca-tha-pha-t-hia-n-a-c-ba-nh-ga-va-ca-ta-m-soa-t-a-c-ung-th-a.html', '/forum/cam-nang-suc-khoe/878-kha-m-ta-ng-qua-t-a-a-u-va-a-an-toa-n-va-a-tia-t-kia-m.html', '/forum/cam-nang-suc-khoe/876-h-a-ng-da-n-s-ca-u-khi-tra-ba-ba-ng-nhia-t-va-ch-m-sa-c-va-t-ba-ng-a-ng-ca-ch.html', '/forum/cam-nang-suc-khoe/873-ca-na-n-ca-t-amidan-kha-nga.html', '/forum/cam-nang-suc-khoe/869-sua-t-ma-t-ma-ng-sau-khi-n-tha-t-ba-ba.html', '/forum/cam-nang-suc-khoe/866-au-nha-c-tia-n-ma-n-kinh.html', '/forum/cam-nang-suc-khoe/861-cha-n-th-ng-sa-n-cha-m.html', '/forum/cam-nang-suc-khoe/858-da-da-u-kha-ng-ga-y-ma-n-pha-i-la-m-saoa.html', '/forum/cam-nang-suc-khoe/855-gia-n-t-nh-ma-ch-a-ma-y-tha-pha-i-pha-u-thua-t.html', '/forum/cam-nang-suc-khoe/852-ca-tay-au-nha-i-ma-i-khi-a-ra-sau-l-ng.html', '/forum/cam-nang-suc-khoe/849-u-nang-bua-ng-tra-ng-ca-ta-i-pha-t.html', '/forum/cam-nang-suc-khoe/846-a-ma-da-ga-y-2-5-ba-ca-sao-kha-nga.html', '/forum/cam-nang-suc-khoe/843-au-na-a-ma-t-ba-n-tra-i-la-ba-nh-ga-a.html', '/forum/cam-nang-suc-khoe/840-da-u-hia-u-a-c-tr-ng-ca-a-ba-nh-tim.html', '/forum/cam-nang-suc-khoe/834-ba-ba-da-a-ng-ha-i-sa-n.html', '/forum/cam-nang-suc-khoe/831-via-m-ta-tuya-n-ca-ta-cung-la-ba-nh-ga.html', '/forum/cam-nang-suc-khoe/827-tra-s-sinh-a-c-sa-a-cha-m-la-n-la-ba-nh-ga-a.html', '/forum/cam-nang-suc-khoe/824-ha-i-a-p-ba-nh-la-parkinson.html']\n",
            "Crawl /forum/cam-nang-suc-khoe/883-tra-hay-ma-t-ta-p-trung-khi-ha-c-ba-i-pha-i-la-m-saoa.html\n",
            "Crawl /forum/cam-nang-suc-khoe/882-au-ma-i-ca-ca-pha-i-la-ba-thoa-i-ha-a-ca-t-sa-ng-ca-a.html\n",
            "Crawl /forum/cam-nang-suc-khoe/879-kha-m-ta-ng-qua-t-ca-tha-pha-t-hia-n-a-c-ba-nh-ga-va-ca-ta-m-soa-t-a-c-ung-th-a.html\n",
            "Crawl /forum/cam-nang-suc-khoe/878-kha-m-ta-ng-qua-t-a-a-u-va-a-an-toa-n-va-a-tia-t-kia-m.html\n",
            "Crawl /forum/cam-nang-suc-khoe/876-h-a-ng-da-n-s-ca-u-khi-tra-ba-ba-ng-nhia-t-va-ch-m-sa-c-va-t-ba-ng-a-ng-ca-ch.html\n",
            "Crawl /forum/cam-nang-suc-khoe/873-ca-na-n-ca-t-amidan-kha-nga.html\n",
            "Crawl /forum/cam-nang-suc-khoe/869-sua-t-ma-t-ma-ng-sau-khi-n-tha-t-ba-ba.html\n",
            "Crawl /forum/cam-nang-suc-khoe/866-au-nha-c-tia-n-ma-n-kinh.html\n",
            "Crawl /forum/cam-nang-suc-khoe/861-cha-n-th-ng-sa-n-cha-m.html\n",
            "Crawl /forum/cam-nang-suc-khoe/858-da-da-u-kha-ng-ga-y-ma-n-pha-i-la-m-saoa.html\n",
            "Crawl /forum/cam-nang-suc-khoe/855-gia-n-t-nh-ma-ch-a-ma-y-tha-pha-i-pha-u-thua-t.html\n",
            "Crawl /forum/cam-nang-suc-khoe/852-ca-tay-au-nha-i-ma-i-khi-a-ra-sau-l-ng.html\n",
            "Crawl /forum/cam-nang-suc-khoe/849-u-nang-bua-ng-tra-ng-ca-ta-i-pha-t.html\n",
            "Crawl /forum/cam-nang-suc-khoe/846-a-ma-da-ga-y-2-5-ba-ca-sao-kha-nga.html\n",
            "Crawl /forum/cam-nang-suc-khoe/843-au-na-a-ma-t-ba-n-tra-i-la-ba-nh-ga-a.html\n",
            "Crawl /forum/cam-nang-suc-khoe/840-da-u-hia-u-a-c-tr-ng-ca-a-ba-nh-tim.html\n",
            "Crawl /forum/cam-nang-suc-khoe/834-ba-ba-da-a-ng-ha-i-sa-n.html\n",
            "Crawl /forum/cam-nang-suc-khoe/831-via-m-ta-tuya-n-ca-ta-cung-la-ba-nh-ga.html\n",
            "Crawl /forum/cam-nang-suc-khoe/827-tra-s-sinh-a-c-sa-a-cha-m-la-n-la-ba-nh-ga-a.html\n",
            "Crawl /forum/cam-nang-suc-khoe/824-ha-i-a-p-ba-nh-la-parkinson.html\n",
            "Iter https://cih.com.vn/forum/cam-nang-suc-khoe.html\n",
            "['/forum/cam-nang-suc-khoe/820-t-ng-c-a-ng-mia-n-da-ch.html', '/forum/cam-nang-suc-khoe/819-ba-via-m-tai-gia-a-cha-a-hoa-i-kha-ng-ha-t.html', '/forum/cam-nang-suc-khoe/814-kinh-nguya-t-kha-ng-a-u-a-tra-va-tha-nh-nia-n.html', '/forum/cam-nang-suc-khoe/809-da-u-hia-u-bua-ng-tra-ng-a-nang.html', '/forum/cam-nang-suc-khoe/808-na-i-soi-tia-u-ha-a-ca-ga-y-bia-n-cha-ng.html', '/forum/cam-nang-suc-khoe/799-tra-1-tua-i-ca-na-n-n-ba-t-nga-ta.html', '/forum/cam-nang-suc-khoe/796-ra-a-m-i-nga-y-2-la-n-ng-n-nga-a-ncov-hia-u-qua-a.html', '/forum/cam-nang-suc-khoe/793-ca-c-loa-i-n-a-c-a-p-tra-i-ca-y-ta-t-cho-sa-c-kha-e.html', '/forum/cam-nang-suc-khoe/790-ba-nh-b-a-u-tuya-n-gia-p-ca-nguy-hia-m-kha-ng.html', '/forum/cam-nang-suc-khoe/785-kha-m-sa-c-kha-e-ta-ng-qua-t-ca-c-ba-nh-gia-bao-nhia-u.html', '/forum/cam-nang-suc-khoe/782-ung-th-ta-y-da-u-hia-u-na-o-a-nha-n-bia-t.html', '/forum/cam-nang-suc-khoe/779-au-ca-nh-s-a-n-la-ba-nh-ga.html', '/forum/cam-nang-suc-khoe/776-ba-a-y-h-i-na-ng-bao-ta.html', '/forum/cam-nang-suc-khoe/773-khi-na-o-ca-n-cha-ch-nga-a-via-m-gana.html', '/forum/cam-nang-suc-khoe/769-tha-i-tia-t-na-ng-em-ra-t-da-ba-choa-ng-va-ng-a-u.html', '/forum/cam-nang-suc-khoe/766-ba-nua-t-xi-gum-ca-sao-kha-nga.html', '/forum/cam-nang-suc-khoe/763-cha-n-oa-n-thoa-i-ha-a-ca-t-sa-ng-nh-tha-na-o.html', '/forum/cam-nang-suc-khoe/760-au-nha-c-ta-tay-cha-n-la-ba-nh-ga-a-a.html', '/forum/cam-nang-suc-khoe/757-mua-n-tra-ho-ba-ng-tha-o-d-a-c.html', '/forum/cam-nang-suc-khoe/754-mua-n-xa-t-nghia-m-corona-cho-ka-t-qua-nhanha.html']\n",
            "Crawl /forum/cam-nang-suc-khoe/820-t-ng-c-a-ng-mia-n-da-ch.html\n",
            "Crawl /forum/cam-nang-suc-khoe/819-ba-via-m-tai-gia-a-cha-a-hoa-i-kha-ng-ha-t.html\n",
            "Crawl /forum/cam-nang-suc-khoe/814-kinh-nguya-t-kha-ng-a-u-a-tra-va-tha-nh-nia-n.html\n",
            "Crawl /forum/cam-nang-suc-khoe/809-da-u-hia-u-bua-ng-tra-ng-a-nang.html\n",
            "Crawl /forum/cam-nang-suc-khoe/808-na-i-soi-tia-u-ha-a-ca-ga-y-bia-n-cha-ng.html\n",
            "Crawl /forum/cam-nang-suc-khoe/799-tra-1-tua-i-ca-na-n-n-ba-t-nga-ta.html\n",
            "Crawl /forum/cam-nang-suc-khoe/796-ra-a-m-i-nga-y-2-la-n-ng-n-nga-a-ncov-hia-u-qua-a.html\n",
            "Crawl /forum/cam-nang-suc-khoe/793-ca-c-loa-i-n-a-c-a-p-tra-i-ca-y-ta-t-cho-sa-c-kha-e.html\n",
            "Crawl /forum/cam-nang-suc-khoe/790-ba-nh-b-a-u-tuya-n-gia-p-ca-nguy-hia-m-kha-ng.html\n",
            "Crawl /forum/cam-nang-suc-khoe/785-kha-m-sa-c-kha-e-ta-ng-qua-t-ca-c-ba-nh-gia-bao-nhia-u.html\n",
            "Crawl /forum/cam-nang-suc-khoe/782-ung-th-ta-y-da-u-hia-u-na-o-a-nha-n-bia-t.html\n",
            "Crawl /forum/cam-nang-suc-khoe/779-au-ca-nh-s-a-n-la-ba-nh-ga.html\n",
            "Crawl /forum/cam-nang-suc-khoe/776-ba-a-y-h-i-na-ng-bao-ta.html\n",
            "Crawl /forum/cam-nang-suc-khoe/773-khi-na-o-ca-n-cha-ch-nga-a-via-m-gana.html\n",
            "Crawl /forum/cam-nang-suc-khoe/769-tha-i-tia-t-na-ng-em-ra-t-da-ba-choa-ng-va-ng-a-u.html\n",
            "Crawl /forum/cam-nang-suc-khoe/766-ba-nua-t-xi-gum-ca-sao-kha-nga.html\n",
            "Crawl /forum/cam-nang-suc-khoe/763-cha-n-oa-n-thoa-i-ha-a-ca-t-sa-ng-nh-tha-na-o.html\n",
            "Crawl /forum/cam-nang-suc-khoe/760-au-nha-c-ta-tay-cha-n-la-ba-nh-ga-a-a.html\n",
            "Crawl /forum/cam-nang-suc-khoe/757-mua-n-tra-ho-ba-ng-tha-o-d-a-c.html\n",
            "Crawl /forum/cam-nang-suc-khoe/754-mua-n-xa-t-nghia-m-corona-cho-ka-t-qua-nhanha.html\n",
            "Iter https://cih.com.vn/forum/cam-nang-suc-khoe.html\n",
            "['/forum/cam-nang-suc-khoe/748-ba-nha-c-na-a-ba-n-a-u-la-ba-nh-ga-a.html', '/forum/cam-nang-suc-khoe/745-pha-n-bia-t-ho-ba-nh-th-a-ng-va-ba-nh-corona.html', '/forum/cam-nang-suc-khoe/739-la-m-sao-a-cha-n-oa-n-ba-nh-ca-t-sa-ng-cha-nh-xa-c.html', '/forum/cam-nang-suc-khoe/736-ca-thai-ua-ng-thua-c-kha-ng-sinh-ca-sao-kha-ng.html', '/forum/cam-nang-suc-khoe/733-ta-p-va-t-la-tra-lia-u-cho-ng-a-i-a-t-qua.html', '/forum/cam-nang-suc-khoe/730-la-m-sao-a-da-a-p-a-n-ta-t-a-y-ca-c-ma-i.html', '/forum/cam-nang-suc-khoe/727-ba-u-nang-bua-ng-tra-ng-ca-ta-i-pha-t.html', '/forum/cam-nang-suc-khoe/723-ba-nh-parkinson-ca-tha-cha-a-kha-i-kha-ng.html', '/forum/cam-nang-suc-khoe/720-au-na-a-a-u-lan-xua-ng-ca-vai-ca-nh-tay.html', '/forum/cam-nang-suc-khoe/717-ca-n-tra-ng-va-i-ta-m-sa-ng-ca-sa-ng.html', '/forum/cam-nang-suc-khoe/714-tra-i-ca-y-na-o-ca-ta-c-da-ng-tha-i-a-c-c-tha.html', '/forum/cam-nang-suc-khoe/711-via-m-a-m-a-o-ca-tha-ta-cha-a-ta-i-nha-a.html', '/forum/cam-nang-suc-khoe/708-va-sao-kha-ng-tha-thai-da-sa-c-kha-e-ba-nh-th-a-ng.html', '/forum/cam-nang-suc-khoe/702-ia-u-tra-a-c-tha-y-tinh-tha-a-ng-a-i-la-n-tua-i.html', '/forum/cam-nang-suc-khoe/699-ba-nha-em-cha-m-t-ng-ca-n-lo-la-ng-qua.html', '/forum/cam-nang-suc-khoe/696-la-m-sao-a-ia-u-tra-kha-i-tai-cha-y-da-ch.html', '/forum/cam-nang-suc-khoe/693-th-a-ng-xuya-n-hoa-ma-t-cha-ng-ma-t.html', '/forum/cam-nang-suc-khoe/690-dinh-d-a-ng-cho-ba-nh-nha-n-ba-ung-th.html', '/forum/cam-nang-suc-khoe/687-tha-c-pha-m-ta-t-cho-sinh-la-nam.html', '/forum/cam-nang-suc-khoe/684-ca-n-l-u-a-ga-sau-khi-ma-a-t-da-y-cha-ng.html']\n",
            "Crawl /forum/cam-nang-suc-khoe/748-ba-nha-c-na-a-ba-n-a-u-la-ba-nh-ga-a.html\n",
            "Crawl /forum/cam-nang-suc-khoe/745-pha-n-bia-t-ho-ba-nh-th-a-ng-va-ba-nh-corona.html\n",
            "Crawl /forum/cam-nang-suc-khoe/739-la-m-sao-a-cha-n-oa-n-ba-nh-ca-t-sa-ng-cha-nh-xa-c.html\n",
            "Crawl /forum/cam-nang-suc-khoe/736-ca-thai-ua-ng-thua-c-kha-ng-sinh-ca-sao-kha-ng.html\n",
            "Crawl /forum/cam-nang-suc-khoe/733-ta-p-va-t-la-tra-lia-u-cho-ng-a-i-a-t-qua.html\n",
            "Crawl /forum/cam-nang-suc-khoe/730-la-m-sao-a-da-a-p-a-n-ta-t-a-y-ca-c-ma-i.html\n",
            "Crawl /forum/cam-nang-suc-khoe/727-ba-u-nang-bua-ng-tra-ng-ca-ta-i-pha-t.html\n",
            "Crawl /forum/cam-nang-suc-khoe/723-ba-nh-parkinson-ca-tha-cha-a-kha-i-kha-ng.html\n",
            "Crawl /forum/cam-nang-suc-khoe/720-au-na-a-a-u-lan-xua-ng-ca-vai-ca-nh-tay.html\n",
            "Crawl /forum/cam-nang-suc-khoe/717-ca-n-tra-ng-va-i-ta-m-sa-ng-ca-sa-ng.html\n",
            "Crawl /forum/cam-nang-suc-khoe/714-tra-i-ca-y-na-o-ca-ta-c-da-ng-tha-i-a-c-c-tha.html\n",
            "Crawl /forum/cam-nang-suc-khoe/711-via-m-a-m-a-o-ca-tha-ta-cha-a-ta-i-nha-a.html\n",
            "Crawl /forum/cam-nang-suc-khoe/708-va-sao-kha-ng-tha-thai-da-sa-c-kha-e-ba-nh-th-a-ng.html\n",
            "Crawl /forum/cam-nang-suc-khoe/702-ia-u-tra-a-c-tha-y-tinh-tha-a-ng-a-i-la-n-tua-i.html\n",
            "Crawl /forum/cam-nang-suc-khoe/699-ba-nha-em-cha-m-t-ng-ca-n-lo-la-ng-qua.html\n",
            "Crawl /forum/cam-nang-suc-khoe/696-la-m-sao-a-ia-u-tra-kha-i-tai-cha-y-da-ch.html\n",
            "Crawl /forum/cam-nang-suc-khoe/693-th-a-ng-xuya-n-hoa-ma-t-cha-ng-ma-t.html\n",
            "Crawl /forum/cam-nang-suc-khoe/690-dinh-d-a-ng-cho-ba-nh-nha-n-ba-ung-th.html\n",
            "Crawl /forum/cam-nang-suc-khoe/687-tha-c-pha-m-ta-t-cho-sinh-la-nam.html\n",
            "Crawl /forum/cam-nang-suc-khoe/684-ca-n-l-u-a-ga-sau-khi-ma-a-t-da-y-cha-ng.html\n",
            "Iter https://cih.com.vn/forum/cam-nang-suc-khoe.html\n",
            "['/forum/cam-nang-suc-khoe/681-ga-n-a-n-nga-y-sinh-lo-la-ng-stress-qua.html', '/forum/cam-nang-suc-khoe/678-sa-t-ca-n-coi-cha-ng-ung-th.html', '/forum/cam-nang-suc-khoe/672-ca-ai-hay-ba-ma-i-ma-t-gia-ng-em.html', '/forum/cam-nang-suc-khoe/669-ia-u-tra-xua-t-huya-t-da-da-y-nh-tha-na-oa.html', '/forum/cam-nang-suc-khoe/666-huya-t-kha-i-ta-c-ma-ch-chi.html', '/forum/cam-nang-suc-khoe/663-la-y-nhia-m-virus-via-m-c-tim-la-ga-a.html', '/forum/cam-nang-suc-khoe/660-la-m-sao-a-sinh-con-kha-ng-aua.html', '/forum/cam-nang-suc-khoe/656-tay-tra-na-i-va-t-tra-ng-da-i.html', '/forum/cam-nang-suc-khoe/653-ba-nh-ha-ha-p-do-ngha-nghia-p.html', '/forum/cam-nang-suc-khoe/650-ba-nh-via-m-ma-ng-na-o-a-tra-ca-nguy-hia-m.html', '/forum/cam-nang-suc-khoe/647-ta-c-ra-ng-nga-y-ca-ng-nhia-u.html', '/forum/cam-nang-suc-khoe/644-pha-ng-nga-a-loa-t-cho-ba-nh-nha-n-na-m-la-u.html', '/forum/cam-nang-suc-khoe/641-ba-via-m-ha-ng-ma-n-ta-nh-ca-tha-cha-a-kha-ia.html', '/forum/cam-nang-suc-khoe/638-ca-na-n-cho-ba-n-da-m-tr-a-c-06-tha-ng.html', '/forum/cam-nang-suc-khoe/635-thoa-t-va-a-a-m-ca-a-c-ta-p-yogaa.html', '/forum/cam-nang-suc-khoe/632-nga-qua-nhia-u-ca-ta-t-kha-nga.html', '/forum/cam-nang-suc-khoe/629-ba-3-tua-i-amidan-to-ca-ca-n-ca-ta.html', '/forum/cam-nang-suc-khoe/626-tra-em-nga-nga-y-ca-la-ba-nha.html', '/forum/cam-nang-suc-khoe/624-ma-t-ka-m-kha-ng-nha-n-tha-y-a-ga-n.html', '/forum/cam-nang-suc-khoe/623-ba-nh-via-n-ca-cha-a-ba-nh-hia-m-mua-na.html']\n",
            "Crawl /forum/cam-nang-suc-khoe/681-ga-n-a-n-nga-y-sinh-lo-la-ng-stress-qua.html\n",
            "Crawl /forum/cam-nang-suc-khoe/678-sa-t-ca-n-coi-cha-ng-ung-th.html\n",
            "Crawl /forum/cam-nang-suc-khoe/672-ca-ai-hay-ba-ma-i-ma-t-gia-ng-em.html\n",
            "Crawl /forum/cam-nang-suc-khoe/669-ia-u-tra-xua-t-huya-t-da-da-y-nh-tha-na-oa.html\n",
            "Crawl /forum/cam-nang-suc-khoe/666-huya-t-kha-i-ta-c-ma-ch-chi.html\n",
            "Crawl /forum/cam-nang-suc-khoe/663-la-y-nhia-m-virus-via-m-c-tim-la-ga-a.html\n",
            "Crawl /forum/cam-nang-suc-khoe/660-la-m-sao-a-sinh-con-kha-ng-aua.html\n",
            "Crawl /forum/cam-nang-suc-khoe/656-tay-tra-na-i-va-t-tra-ng-da-i.html\n",
            "Crawl /forum/cam-nang-suc-khoe/653-ba-nh-ha-ha-p-do-ngha-nghia-p.html\n",
            "Crawl /forum/cam-nang-suc-khoe/650-ba-nh-via-m-ma-ng-na-o-a-tra-ca-nguy-hia-m.html\n",
            "Crawl /forum/cam-nang-suc-khoe/647-ta-c-ra-ng-nga-y-ca-ng-nhia-u.html\n",
            "Crawl /forum/cam-nang-suc-khoe/644-pha-ng-nga-a-loa-t-cho-ba-nh-nha-n-na-m-la-u.html\n"
          ]
        }
      ]
    }
  ]
}