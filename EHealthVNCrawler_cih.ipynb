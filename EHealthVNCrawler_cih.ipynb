{
  "nbformat": 4,
  "nbformat_minor": 0,
  "metadata": {
    "colab": {
      "provenance": [],
      "authorship_tag": "ABX9TyOgKnHGFfUe5rRCd2pDDFor",
      "include_colab_link": true
    },
    "kernelspec": {
      "name": "python3",
      "display_name": "Python 3"
    },
    "language_info": {
      "name": "python"
    }
  },
  "cells": [
    {
      "cell_type": "markdown",
      "metadata": {
        "id": "view-in-github",
        "colab_type": "text"
      },
      "source": [
        "<a href=\"https://colab.research.google.com/github/GuyRobot/AINotesBook/blob/main/EHealthVNCrawler_cih.ipynb\" target=\"_parent\"><img src=\"https://colab.research.google.com/assets/colab-badge.svg\" alt=\"Open In Colab\"/></a>"
      ]
    },
    {
      "cell_type": "code",
      "execution_count": null,
      "metadata": {
        "id": "ZSjxriqa13BG"
      },
      "outputs": [],
      "source": [
        "from bs4 import BeautifulSoup\n",
        "from urllib.request import urlopen\n",
        "import re\n",
        "step = 40\n",
        "BASE_URL = \"http://diendansuckhoe24h.net/\"\n",
        "\n",
        "# url = \"https://suckhoetoday.com/p/179-Phong-benh-mua-dong.html/\"\n",
        "# url = \"https://suckhoetoday.com/p/97-BENH-VA-CHUA-BENH-CHO-TRE-CON.html/\"\n",
        "# url = \"https://suckhoetoday.com/p/98-BENH-DICH-THEO-MUA.html/\"\n",
        "# url = \"https://suckhoetoday.com/p/185-Phong-benh-mua-he.html/\"\n",
        "url = \"http://diendansuckhoe24h.net/\"\n",
        "# url = \"https://suckhoetoday.com/p/93-CHE-DO-DINH-DUONG.html/\"\n",
        "page = urlopen(url)\n",
        "html = page.read().decode(\"utf-8\")\n",
        "soup = BeautifulSoup(html, \"html.parser\")\n",
        "init_url = url"
      ]
    },
    {
      "cell_type": "code",
      "source": [
        "# soup.find_all(\"ol\", {\"id\": \"forums\"})[0].find_all(\"ol\", {\"class\": \"nodeList\"})[0].find_all(\"li\", {\"class\": \"node\"})[0].find_all(\"h3\", {\"class\": \"nodeTitle\"})[0].find_all(\"a\")[0].get(\"href\")"
      ],
      "metadata": {
        "id": "4LuaX3aFYzZn"
      },
      "execution_count": null,
      "outputs": []
    },
    {
      "cell_type": "code",
      "source": [
        "ass = [a for x in soup.find_all(\"ol\", {\"id\": \"forums\"})[0].find_all(\"ol\", {\"class\": \"nodeList\"}) for a in x.find_all(\"li\", {\"class\": \"node\"})]"
      ],
      "metadata": {
        "id": "hsXkad0oa--g"
      },
      "execution_count": null,
      "outputs": []
    },
    {
      "cell_type": "code",
      "source": [
        "pages = [a.find_all(\"h3\", {\"class\": \"nodeTitle\"})[0].find_all(\"a\")[0].get(\"href\") for a in ass]"
      ],
      "metadata": {
        "id": "GRqTc-SHaY75"
      },
      "execution_count": null,
      "outputs": []
    },
    {
      "cell_type": "code",
      "source": [
        "url = f\"{BASE_URL}{pages[0]}\"\n",
        "page = urlopen(url)\n",
        "html = page.read().decode(\"utf-8\")\n",
        "soup = BeautifulSoup(html, \"html.parser\")"
      ],
      "metadata": {
        "id": "8Aiifn_c8SpW"
      },
      "execution_count": null,
      "outputs": []
    },
    {
      "cell_type": "code",
      "source": [
        "links = [a.find_all(\"h3\", {\"class\": \"title\"})[0].find_all(\"a\")[0].get(\"href\") for a in soup.find_all(\"ol\", {\"class\": \"discussionListItems\"})[0].find_all(\"li\", {\"class\": \"discussionListItem\"})]"
      ],
      "metadata": {
        "id": "R4m9B_cQcLvS"
      },
      "execution_count": null,
      "outputs": []
    },
    {
      "cell_type": "code",
      "source": [
        "url = f\"{BASE_URL}{links[0]}\"\n",
        "page = urlopen(url)\n",
        "html = page.read().decode(\"utf-8\")\n",
        "soup = BeautifulSoup(html, \"html.parser\")"
      ],
      "metadata": {
        "id": "MZj24cnib9A-"
      },
      "execution_count": null,
      "outputs": []
    },
    {
      "cell_type": "code",
      "source": [
        "ARTICLE = soup.find(\"div\", {\"class\": \"messageContent\"}).get_text()"
      ],
      "metadata": {
        "id": "uRM4ArAleo9i"
      },
      "execution_count": null,
      "outputs": []
    },
    {
      "cell_type": "code",
      "source": [
        "import json\n",
        "data = []\n",
        "for p, page_u in enumerate(pages):\n",
        "  print(f\"Crawl {page_u}\")\n",
        "  try:\n",
        "    page_url = f\"{BASE_URL}{page_u}\"\n",
        "    page_page = urlopen(page_url)\n",
        "    page_html = page_page.read().decode(\"utf-8\")\n",
        "    page_soup = BeautifulSoup(page_html, \"html.parser\")\n",
        "\n",
        "    for u in range(0, int(page_soup.find_all(\"div\", {\"class\": \"PageNav\"})[0].get(\"data-last\"))):\n",
        "      print(f\"Iter {u}\")\n",
        "      page_url = f\"{BASE_URL}{page_u}page-{u}\"\n",
        "      page_page = urlopen(page_url)\n",
        "      page_html = page_page.read().decode(\"utf-8\")\n",
        "      page_soup = BeautifulSoup(page_html, \"html.parser\")\n",
        "      questions = [a.find_all(\"h3\", {\"class\": \"title\"})[0].find_all(\"a\")[0].get_text() for a in page_soup.find_all(\"ol\", {\"class\": \"discussionListItems\"})[0].find_all(\"li\", {\"class\": \"discussionListItem\"})]\n",
        "      links = [a.find_all(\"h3\", {\"class\": \"title\"})[0].find_all(\"a\")[0].get(\"href\") for a in page_soup.find_all(\"ol\", {\"class\": \"discussionListItems\"})[0].find_all(\"li\", {\"class\": \"discussionListItem\"})]\n",
        "      for i, link in enumerate(links):\n",
        "        url = f\"{BASE_URL}{link}\"\n",
        "        page = urlopen(url)\n",
        "        html = page.read().decode(\"utf-8\")\n",
        "        soup = BeautifulSoup(html, \"html.parser\")\n",
        "        answer = soup.find(\"div\", {\"class\": \"messageContent\"}).get_text()\n",
        "        data.append({\"question\": re.sub(r'Question:', '', re.sub(r'(\\n\\s*)+\\n+', '\\n', re.sub(r'\\r', r'\\n', questions[i].strip())), re.I),\n",
        "                          \"answer\": re.sub(r'Detailed Answer:', '', re.sub(r'Brief Answer:', '', re.sub(r'(\\n\\s*)+\\n+', '\\n', re.sub(r'\\r', r'\\n', answer.strip())), re.I), re.I), \"url\": url})\n",
        "        if p % 2 == 0:\n",
        "          with open(\"crawled.json\", \"w\", encoding='utf-8') as f:\n",
        "            json.dump(data, f, indent=4, ensure_ascii=False)\n",
        "  except:\n",
        "    pass"
      ],
      "metadata": {
        "colab": {
          "base_uri": "https://localhost:8080/"
        },
        "id": "tbJ1qp44kW1N",
        "outputId": "e68a5cc5-8c42-4373-c88a-10b7b227fa7f"
      },
      "execution_count": null,
      "outputs": [
        {
          "output_type": "stream",
          "name": "stdout",
          "text": [
            "Crawl forums/suc-khoe-tre-em/\n",
            "Iter 0\n",
            "Iter 1\n"
          ]
        }
      ]
    },
    {
      "cell_type": "code",
      "source": [
        "# !pip install -q transformers"
      ],
      "metadata": {
        "id": "xvTwUUw3fo9D"
      },
      "execution_count": null,
      "outputs": []
    },
    {
      "cell_type": "code",
      "source": [
        "# from transformers import pipeline\n",
        "\n",
        "# summarizer = pipeline(\"summarization\", model=\"facebook/bart-large-cnn\")"
      ],
      "metadata": {
        "id": "2zat3yGFfloE"
      },
      "execution_count": null,
      "outputs": []
    },
    {
      "cell_type": "code",
      "source": [
        "# print(summarizer(ARTICLE[:512], max_length=512, min_length=30, do_sample=False))"
      ],
      "metadata": {
        "id": "gD3t3YD3gCFJ"
      },
      "execution_count": null,
      "outputs": []
    },
    {
      "cell_type": "code",
      "source": [
        "# links = [a.get(\"href\") for a in soup.find_all(\"a\", {\"class\": \"title\"})]\n",
        "# links"
      ],
      "metadata": {
        "id": "CJoMwyjd2qTM"
      },
      "execution_count": null,
      "outputs": []
    }
  ]
}