{
  "nbformat": 4,
  "nbformat_minor": 0,
  "metadata": {
    "colab": {
      "provenance": [],
      "authorship_tag": "ABX9TyNIwNiOUbsd1G1qX0tOabpE",
      "include_colab_link": true
    },
    "kernelspec": {
      "name": "python3",
      "display_name": "Python 3"
    },
    "language_info": {
      "name": "python"
    }
  },
  "cells": [
    {
      "cell_type": "markdown",
      "metadata": {
        "id": "view-in-github",
        "colab_type": "text"
      },
      "source": [
        "<a href=\"https://colab.research.google.com/github/GuyRobot/AINotesBook/blob/main/Crawler.ipynb\" target=\"_parent\"><img src=\"https://colab.research.google.com/assets/colab-badge.svg\" alt=\"Open In Colab\"/></a>"
      ]
    },
    {
      "cell_type": "code",
      "execution_count": 44,
      "metadata": {
        "id": "amFCFzJJ01FO"
      },
      "outputs": [],
      "source": [
        "from bs4 import BeautifulSoup\n",
        "from urllib.request import urlopen\n",
        "import re\n",
        "step = 40\n",
        "BASE_URL = \"https://www.healthcaremagic.com\"\n",
        "\n",
        "url = \"https://www.healthcaremagic.com/premiumquestions/0\"\n",
        "page = urlopen(url)\n",
        "html = page.read().decode(\"utf-8\")\n",
        "soup = BeautifulSoup(html, \"html.parser\")\n"
      ]
    },
    {
      "cell_type": "code",
      "source": [
        "pages = soup.find(id=\"paginationDiv\")"
      ],
      "metadata": {
        "id": "rPmO1Vhc1CFH"
      },
      "execution_count": null,
      "outputs": []
    },
    {
      "cell_type": "code",
      "source": [
        "links = [a.get(\"href\") for a in soup.find_all(\"a\", {\"class\": \"smallTitle\"})]\n",
        "links"
      ],
      "metadata": {
        "id": "LanQiRz22Bko"
      },
      "execution_count": null,
      "outputs": []
    },
    {
      "cell_type": "code",
      "source": [
        "url = f\"https://www.healthcaremagic.com/premiumquestions/What-can-be-done-after-accidentally-taking-a-high-dose-of-behada-and-trikatu-churna/337396\"\n",
        "page = urlopen(url)\n",
        "html = page.read().decode(\"utf-8\")\n",
        "soup = BeautifulSoup(html, \"html.parser\")"
      ],
      "metadata": {
        "id": "1mtOXpZz2S_o"
      },
      "execution_count": 2,
      "outputs": []
    },
    {
      "cell_type": "code",
      "source": [
        "cards = soup.find_all(\"div\", {\"class\": \"card\"})\n",
        "a = str(cards[0].get_text())\n",
        "print(a.replace(\"\\r\", \"\\n\"))"
      ],
      "metadata": {
        "colab": {
          "base_uri": "https://localhost:8080/"
        },
        "id": "5HeNcD7J65-T",
        "outputId": "26fa4bdd-dfb0-4df2-d014-72fc5e9f97c5"
      },
      "execution_count": 27,
      "outputs": [
        {
          "output_type": "stream",
          "name": "stdout",
          "text": [
            "Question: Hello Doctor, \n",
            " I interacted with you last month regarding my poor intolerance to Shivliningi beej and other medications after taking accidently taking high dose of Beheda churna, trukatu churna, swarna vasant, and praval pishti. \n",
            " You recommended the following medications, I was not able to get in touch with anyone from the site you had given via email or by contacting. \n",
            "-Yashimadu Choornam\n",
            "-Amalant Tablet\n",
            "-Guduchi Choornam\n",
            " However, I was able to contact another site and this is the medication I got: \n",
            "-Licorice/Glycyrrhiza Glabra\n",
            "-Guduchi/Tinospora Cordifolia\n",
            "-Amalaki\n",
            " I was told these are the similar medication as you recommended. I wanted to ask you if this is correct? Will this help me excrete the excessive medication I took (Trikatu, Beheda, Swarna XXXXXXX and Praval). I would like to be able to digest/absorb Shivlinigi & putrajeev beej for fertility and I will not suffer from increase energy/Insomnia. \n",
            " Thank you, \n"
          ]
        }
      ]
    },
    {
      "cell_type": "code",
      "source": [
        "# [c.find('div', {\"class\": \"userrow\"}) for c in cards]"
      ],
      "metadata": {
        "id": "nbA04C6TBbYA",
        "outputId": "f0f1b667-a99b-4cca-bb9e-8e94d7961dbc",
        "colab": {
          "base_uri": "https://localhost:8080/"
        }
      },
      "execution_count": 64,
      "outputs": [
        {
          "output_type": "execute_result",
          "data": {
            "text/plain": [
              "[None, None, None]"
            ]
          },
          "metadata": {},
          "execution_count": 64
        }
      ]
    },
    {
      "cell_type": "code",
      "source": [
        "for div in [c.find('div', {\"class\": \"userrow\"}) for c in cards]:\n",
        "    if div is not None:\n",
        "      div.decompose()"
      ],
      "metadata": {
        "id": "LVwOEqIGB5st"
      },
      "execution_count": 62,
      "outputs": []
    },
    {
      "cell_type": "code",
      "source": [
        "# [x.get_text() for x in cards[:2]][1]"
      ],
      "metadata": {
        "id": "qJJlB-Gi_t8u",
        "outputId": "70b31cb6-b3c0-42fb-846f-0ec7973b9e8e",
        "colab": {
          "base_uri": "https://localhost:8080/",
          "height": 87
        }
      },
      "execution_count": 65,
      "outputs": [
        {
          "output_type": "execute_result",
          "data": {
            "text/plain": [
              "'\\r\\n                                Brief Answer:\\rYes, continue the medication.\\r Detailed Answer:\\r Hi,\\r Continue the medication.\\r Licorice/Glycyrrhiza Glabra\\r-Guduchi/Tinospora Cordifolia\\r-Amalaki\\r All the above were correct and you can continue the medication for one month, get back to me with feedback so that I can advise you in this issue.\\r Hope I have answered your query.\\r Thank you.\\r Regards,\\rDr. S. Senthilnathan Subramanian\\rAyurveda Specialist\\r\\n\\r\\n                                \\r\\n                                \\n\\n'"
            ],
            "application/vnd.google.colaboratory.intrinsic+json": {
              "type": "string"
            }
          },
          "metadata": {},
          "execution_count": 65
        }
      ]
    },
    {
      "cell_type": "code",
      "source": [
        "{\"question\": re.sub(r'(\\n\\s*)+\\n+', '\\n\\n', re.sub(r'\\r', r'\\n', cards[0].get_text().strip())), \"answer\": re.sub(r'(\\n\\s*)+\\n+', '\\n\\n', re.sub(r'\\r', r'\\n', cards[1].get_text().strip()))}"
      ],
      "metadata": {
        "id": "Czm_lBoeABZ7",
        "outputId": "ad71e587-799c-4dd5-f1cd-96cceadc7f0e",
        "colab": {
          "base_uri": "https://localhost:8080/"
        }
      },
      "execution_count": 66,
      "outputs": [
        {
          "output_type": "execute_result",
          "data": {
            "text/plain": [
              "{'question': 'Question: Hello Doctor, \\n I interacted with you last month regarding my poor intolerance to Shivliningi beej and other medications after taking accidently taking high dose of Beheda churna, trukatu churna, swarna vasant, and praval pishti. \\n You recommended the following medications, I was not able to get in touch with anyone from the site you had given via email or by contacting. \\n-Yashimadu Choornam\\n-Amalant Tablet\\n-Guduchi Choornam\\n However, I was able to contact another site and this is the medication I got: \\n-Licorice/Glycyrrhiza Glabra\\n-Guduchi/Tinospora Cordifolia\\n-Amalaki\\n I was told these are the similar medication as you recommended. I wanted to ask you if this is correct? Will this help me excrete the excessive medication I took (Trikatu, Beheda, Swarna XXXXXXX and Praval). I would like to be able to digest/absorb Shivlinigi & putrajeev beej for fertility and I will not suffer from increase energy/Insomnia. \\n Thank you,',\n",
              " 'answer': 'Brief Answer:\\nYes, continue the medication.\\n Detailed Answer:\\n Hi,\\n Continue the medication.\\n Licorice/Glycyrrhiza Glabra\\n-Guduchi/Tinospora Cordifolia\\n-Amalaki\\n All the above were correct and you can continue the medication for one month, get back to me with feedback so that I can advise you in this issue.\\n Hope I have answered your query.\\n Thank you.\\n Regards,\\nDr. S. Senthilnathan Subramanian\\nAyurveda Specialist'}"
            ]
          },
          "metadata": {},
          "execution_count": 66
        }
      ]
    },
    {
      "cell_type": "code",
      "source": [
        "# for card in cards[:2]:\n",
        "#   txt = str(card.get_text()).replace(\"\\r\", \"\\n\")\n",
        "#   if (re.match(\"question:\", txt, re.I)):\n",
        "#     print(txt.replace(\"Question:\", \"\").strip())\n",
        "#   if (re.match(\"brife:\", txt, re.I)):\n",
        "#     print(txt.replace(\"Question:\", \"\").strip())\n",
        "#   print(\"-\"*300)"
      ],
      "metadata": {
        "colab": {
          "base_uri": "https://localhost:8080/"
        },
        "id": "86MWxO2L3OLf",
        "outputId": "8133a403-f31a-446c-c4a0-120d6180b7a8"
      },
      "execution_count": 45,
      "outputs": [
        {
          "output_type": "stream",
          "name": "stdout",
          "text": [
            "Hello Doctor, \n",
            " I interacted with you last month regarding my poor intolerance to Shivliningi beej and other medications after taking accidently taking high dose of Beheda churna, trukatu churna, swarna vasant, and praval pishti. \n",
            " You recommended the following medications, I was not able to get in touch with anyone from the site you had given via email or by contacting. \n",
            "-Yashimadu Choornam\n",
            "-Amalant Tablet\n",
            "-Guduchi Choornam\n",
            " However, I was able to contact another site and this is the medication I got: \n",
            "-Licorice/Glycyrrhiza Glabra\n",
            "-Guduchi/Tinospora Cordifolia\n",
            "-Amalaki\n",
            " I was told these are the similar medication as you recommended. I wanted to ask you if this is correct? Will this help me excrete the excessive medication I took (Trikatu, Beheda, Swarna XXXXXXX and Praval). I would like to be able to digest/absorb Shivlinigi & putrajeev beej for fertility and I will not suffer from increase energy/Insomnia. \n",
            " Thank you,\n",
            "Hello Doctor, \n",
            " I interacted with you last month regarding my poor intolerance to Shivliningi beej and other medications after taking accidently taking high dose of Beheda churna, trukatu churna, swarna vasant, and praval pishti. \n",
            " You recommended the following medications, I was not able to get in touch with anyone from the site you had given via email or by contacting. \n",
            "-Yashimadu Choornam\n",
            "-Amalant Tablet\n",
            "-Guduchi Choornam\n",
            " However, I was able to contact another site and this is the medication I got: \n",
            "-Licorice/Glycyrrhiza Glabra\n",
            "-Guduchi/Tinospora Cordifolia\n",
            "-Amalaki\n",
            " I was told these are the similar medication as you recommended. I wanted to ask you if this is correct? Will this help me excrete the excessive medication I took (Trikatu, Beheda, Swarna XXXXXXX and Praval). I would like to be able to digest/absorb Shivlinigi & putrajeev beej for fertility and I will not suffer from increase energy/Insomnia. \n",
            " Thank you,\n",
            "------------------------------------------------------------------------------------------------------------------------------------------------------------------------------------------------------------------------------------------------------------------------------------------------------------\n",
            "------------------------------------------------------------------------------------------------------------------------------------------------------------------------------------------------------------------------------------------------------------------------------------------------------------\n",
            "------------------------------------------------------------------------------------------------------------------------------------------------------------------------------------------------------------------------------------------------------------------------------------------------------------\n"
          ]
        }
      ]
    },
    {
      "cell_type": "code",
      "source": [
        "cards[0]"
      ],
      "metadata": {
        "colab": {
          "base_uri": "https://localhost:8080/"
        },
        "id": "tdbRsOqP7R05",
        "outputId": "0c2709fc-8c80-4478-c736-056163902f7c"
      },
      "execution_count": null,
      "outputs": [
        {
          "output_type": "execute_result",
          "data": {
            "text/plain": [
              "<div class=\"card\">Question: Hello Doctor, \n",
              "<br/> <br/>I interacted with you last month regarding my poor intolerance to Shivliningi beej and other medications after taking accidently taking high dose of Beheda churna, trukatu churna, swarna vasant, and praval pishti. \n",
              "<br/> <br/>You recommended the following medications, I was not able to get in touch with anyone from the site you had given via email or by contacting. \n",
              "<br/>-Yashimadu Choornam\n",
              "<br/>-Amalant Tablet\n",
              "<br/>-Guduchi Choornam\n",
              "<br/> <br/>However, I was able to contact another site and this is the medication I got: \n",
              "<br/>-Licorice/Glycyrrhiza Glabra\n",
              "<br/>-Guduchi/Tinospora Cordifolia\n",
              "<br/>-Amalaki\n",
              "<br/> <br/>I was told these are the similar medication as you recommended. I wanted to ask you if this is correct? Will this help me excrete the excessive medication I took (Trikatu, Beheda, Swarna XXXXXXX and Praval). I would like to be able to digest/absorb Shivlinigi &amp; putrajeev beej for <a href=\"/topics/disease-and-conditions/fertility/913?iL=true\">fertility</a> and I will not suffer from increase energy/<a href=\"/topics/disease-and-conditions/insomnia/137235?iL=true\">Insomnia</a>. \n",
              "<br/> <br/>Thank you, </div>"
            ]
          },
          "metadata": {},
          "execution_count": 46
        }
      ]
    },
    {
      "cell_type": "code",
      "source": [
        "for div in soup.find_all(\"div\", {\"class\": \"card\"}):\n",
        "  print(div)"
      ],
      "metadata": {
        "colab": {
          "base_uri": "https://localhost:8080/"
        },
        "id": "G9RVIm5C2hli",
        "outputId": "8c285733-d590-49d1-df17-5c849fd5ed11"
      },
      "execution_count": null,
      "outputs": [
        {
          "output_type": "stream",
          "name": "stdout",
          "text": [
            "<div class=\"card\">Question: Hello Doctor, \r<br/> <br/>I interacted with you last month regarding my poor intolerance to Shivliningi beej and other medications after taking accidently taking high dose of Beheda churna, trukatu churna, swarna vasant, and praval pishti. \r<br/> <br/>You recommended the following medications, I was not able to get in touch with anyone from the site you had given via email or by contacting. \r<br/>-Yashimadu Choornam\r<br/>-Amalant Tablet\r<br/>-Guduchi Choornam\r<br/> <br/>However, I was able to contact another site and this is the medication I got: \r<br/>-Licorice/Glycyrrhiza Glabra\r<br/>-Guduchi/Tinospora Cordifolia\r<br/>-Amalaki\r<br/> <br/>I was told these are the similar medication as you recommended. I wanted to ask you if this is correct? Will this help me excrete the excessive medication I took (Trikatu, Beheda, Swarna XXXXXXX and Praval). I would like to be able to digest/absorb Shivlinigi &amp; putrajeev beej for <a href=\"/topics/disease-and-conditions/fertility/913?iL=true\">fertility</a> and I will not suffer from increase energy/<a href=\"/topics/disease-and-conditions/insomnia/137235?iL=true\">Insomnia</a>. \r<br/> <br/>Thank you, </div>\n",
            "<div class=\"card\" style=\"display: inline-block;\">\r\n",
            "                                Brief Answer:\r<br/>Yes, continue the medication.\r<br/> <br/>Detailed Answer:\r<br/> <br/>Hi,\r<br/> <br/>Continue the medication.\r<br/> <br/>Licorice/Glycyrrhiza Glabra\r<br/>-Guduchi/Tinospora Cordifolia\r<br/>-Amalaki\r<br/> <br/>All the above were correct and you can continue the medication for one month, get back to me with feedback so that I can advise you in this issue.\r<br/> <br/>Hope I have answered your query.\r<br/> <br/>Thank you.\r<br/> <br/>Regards,\r<br/>Dr. S. Senthilnathan Subramanian\r<br/>Ayurveda Specialist\r\n",
            "\r\n",
            "                                \r\n",
            "                                <hr/>\n",
            "<div class=\"userrow right\" style=\"margin-bottom: 0; padding-bottom: 0\"> Above answer was peer-reviewed by :\r\n",
            "                              <span class=\"text-primary\">\n",
            "<a href=\"/doctors/dr-nagamani-ng/71775\">\r\n",
            "                                  Dr. Nagamani Ng\r\n",
            "                              </a>\n",
            "</span>\n",
            "<div class=\"profileimg right\" style=\"margin: -3px 0 0 10px!important; \"> <img alt=\"doctor\" class=\"img-fluid\" src=\"https://image.healthcaremagic.com/files/images/profile/doctor/icon/71775.jpg\"/> </div>\n",
            "</div>\n",
            "</div>\n",
            "<div class=\"card questionbox\"> <span class=\"doctor-online\"><i aria-hidden=\"true\" class=\"fa fa-circle\"></i> 152 Doctors Online</span>\n",
            "<div class=\"row\">\n",
            "<div class=\"col-md-12\">\n",
            "<div class=\"details\">\n",
            "<div class=\"form-group\">\n",
            "<textarea class=\"form-control\" cols=\"30\" id=\"chatwidgetcomment\" name=\"query\" onclick=\"TypeEmulator.i('chatwidgetcomment').stopType();\" placeholder=\"Please type your question here. More details would give well thought answers by doctors.\" rows=\"6\"></textarea>\n",
            "</div>\n",
            "<div class=\"form-group\">\n",
            "<div class=\"row email-askbtn\">\n",
            "<div class=\"col-lg-12 mb-3\">\n",
            "<input class=\"form-control\" id=\"email\" name=\"email\" placeholder=\"Enter your email ID to receive answer\" requiredmessage=\"E-mail cannot be left blank\" type=\"text\"/>\n",
            "<div class=\"inlineErrorDiv\" errdiv=\"email\" style=\"font-weight: bold;color: red;\"></div>\n",
            "</div>\n",
            "<div class=\"col-lg-12\"><a class=\"btn btn-warning btn-block\" href=\"javascript:proceed();\">Ask a Doctor Now <i class=\"fa fa-angle-double-right\"></i></a></div>\n",
            "</div>\n",
            "</div>\n",
            "</div>\n",
            "</div>\n",
            "</div>\n",
            "<p>By proceeding, I accept the <a class=\"font-weight-bold\" href=\"javascript:discPopup()\">Terms and Conditions</a></p>\n",
            "<div class=\"row instantAccess\">\n",
            "<div class=\"col-md-12 col-lg-4 box\"> <img alt=\"HCM Blog\" class=\"img-fluid\" src=\"/r/images/instant-icon.png\"/> <span>Instant Access to Doctors</span> </div>\n",
            "<div class=\"col-md-12 col-lg-4 box\"><img alt=\"HCM Blog\" class=\"img-fluid\" src=\"/r/images/questions-icon.png\"/> <span>Questions Answered</span> </div>\n",
            "<div class=\"col-md-12 col-lg-4 box\"><img alt=\"HCM Blog\" class=\"img-fluid\" src=\"/r/images/satisfaction-icon.png\"/> <span> Satisfaction</span> </div>\n",
            "</div>\n",
            "</div>\n"
          ]
        }
      ]
    }
  ]
}