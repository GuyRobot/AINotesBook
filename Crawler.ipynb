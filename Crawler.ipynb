{
  "nbformat": 4,
  "nbformat_minor": 0,
  "metadata": {
    "colab": {
      "provenance": [],
      "authorship_tag": "ABX9TyND1UkzcLEVcqKctdyiGXa4",
      "include_colab_link": true
    },
    "kernelspec": {
      "name": "python3",
      "display_name": "Python 3"
    },
    "language_info": {
      "name": "python"
    }
  },
  "cells": [
    {
      "cell_type": "markdown",
      "metadata": {
        "id": "view-in-github",
        "colab_type": "text"
      },
      "source": [
        "<a href=\"https://colab.research.google.com/github/GuyRobot/AINotesBook/blob/main/Crawler.ipynb\" target=\"_parent\"><img src=\"https://colab.research.google.com/assets/colab-badge.svg\" alt=\"Open In Colab\"/></a>"
      ]
    },
    {
      "cell_type": "code",
      "execution_count": 2,
      "metadata": {
        "id": "amFCFzJJ01FO"
      },
      "outputs": [],
      "source": [
        "from bs4 import BeautifulSoup\n",
        "from urllib.request import urlopen\n",
        "import re\n",
        "step = 40\n",
        "BASE_URL = \"https://www.healthcaremagic.com\"\n",
        "\n",
        "url = \"https://www.healthcaremagic.com/premiumquestions/0\"\n",
        "page = urlopen(url)\n",
        "html = page.read().decode(\"utf-8\")\n",
        "soup = BeautifulSoup(html, \"html.parser\")\n"
      ]
    },
    {
      "cell_type": "code",
      "source": [
        "pages = soup.find(id=\"paginationDiv\")"
      ],
      "metadata": {
        "id": "rPmO1Vhc1CFH"
      },
      "execution_count": 3,
      "outputs": []
    },
    {
      "cell_type": "code",
      "source": [
        "links = [a.get(\"href\") for a in soup.find_all(\"a\", {\"class\": \"smallTitle\"})]"
      ],
      "metadata": {
        "id": "LanQiRz22Bko"
      },
      "execution_count": null,
      "outputs": []
    },
    {
      "cell_type": "code",
      "source": [
        "url = f\"https://www.healthcaremagic.com/premiumquestions/What-can-be-done-after-accidentally-taking-a-high-dose-of-behada-and-trikatu-churna/337396\"\n",
        "page = urlopen(url)\n",
        "html = page.read().decode(\"utf-8\")\n",
        "soup = BeautifulSoup(html, \"html.parser\")"
      ],
      "metadata": {
        "id": "1mtOXpZz2S_o"
      },
      "execution_count": 5,
      "outputs": []
    },
    {
      "cell_type": "code",
      "source": [
        "cards = soup.find_all(\"div\", {\"class\": \"card\"})\n",
        "a = str(cards[0].get_text())\n",
        "print(a.replace(\"\\r\", \"\\n\"))"
      ],
      "metadata": {
        "colab": {
          "base_uri": "https://localhost:8080/"
        },
        "id": "5HeNcD7J65-T",
        "outputId": "d9d0d819-bae1-49d6-82af-24f31977a537"
      },
      "execution_count": 6,
      "outputs": [
        {
          "output_type": "stream",
          "name": "stdout",
          "text": [
            "Question: Hello Doctor, \n",
            " I interacted with you last month regarding my poor intolerance to Shivliningi beej and other medications after taking accidently taking high dose of Beheda churna, trukatu churna, swarna vasant, and praval pishti. \n",
            " You recommended the following medications, I was not able to get in touch with anyone from the site you had given via email or by contacting. \n",
            "-Yashimadu Choornam\n",
            "-Amalant Tablet\n",
            "-Guduchi Choornam\n",
            " However, I was able to contact another site and this is the medication I got: \n",
            "-Licorice/Glycyrrhiza Glabra\n",
            "-Guduchi/Tinospora Cordifolia\n",
            "-Amalaki\n",
            " I was told these are the similar medication as you recommended. I wanted to ask you if this is correct? Will this help me excrete the excessive medication I took (Trikatu, Beheda, Swarna XXXXXXX and Praval). I would like to be able to digest/absorb Shivlinigi & putrajeev beej for fertility and I will not suffer from increase energy/Insomnia. \n",
            " Thank you, \n"
          ]
        }
      ]
    },
    {
      "cell_type": "code",
      "source": [
        "# [c.find('div', {\"class\": \"userrow\"}) for c in cards]"
      ],
      "metadata": {
        "id": "nbA04C6TBbYA"
      },
      "execution_count": 7,
      "outputs": []
    },
    {
      "cell_type": "code",
      "source": [
        "for div in [c.find('div', {\"class\": \"userrow\"}) for c in cards]:\n",
        "    if div is not None:\n",
        "      div.decompose()"
      ],
      "metadata": {
        "id": "LVwOEqIGB5st"
      },
      "execution_count": 8,
      "outputs": []
    },
    {
      "cell_type": "code",
      "source": [
        "# [x.get_text() for x in cards[:2]][1]"
      ],
      "metadata": {
        "id": "qJJlB-Gi_t8u"
      },
      "execution_count": 9,
      "outputs": []
    },
    {
      "cell_type": "code",
      "source": [
        "{\"question\": re.sub(r'(\\n\\s*)+\\n+', '\\n\\n', re.sub(r'\\r', r'\\n', cards[0].get_text().strip())), \"answer\": re.sub(r'(\\n\\s*)+\\n+', '\\n\\n', re.sub(r'\\r', r'\\n', cards[1].get_text().strip()))}"
      ],
      "metadata": {
        "id": "Czm_lBoeABZ7",
        "outputId": "830fe6a3-1094-4579-d6e8-66f2f236a7ce",
        "colab": {
          "base_uri": "https://localhost:8080/"
        }
      },
      "execution_count": 10,
      "outputs": [
        {
          "output_type": "execute_result",
          "data": {
            "text/plain": [
              "{'question': 'Question: Hello Doctor, \\n I interacted with you last month regarding my poor intolerance to Shivliningi beej and other medications after taking accidently taking high dose of Beheda churna, trukatu churna, swarna vasant, and praval pishti. \\n You recommended the following medications, I was not able to get in touch with anyone from the site you had given via email or by contacting. \\n-Yashimadu Choornam\\n-Amalant Tablet\\n-Guduchi Choornam\\n However, I was able to contact another site and this is the medication I got: \\n-Licorice/Glycyrrhiza Glabra\\n-Guduchi/Tinospora Cordifolia\\n-Amalaki\\n I was told these are the similar medication as you recommended. I wanted to ask you if this is correct? Will this help me excrete the excessive medication I took (Trikatu, Beheda, Swarna XXXXXXX and Praval). I would like to be able to digest/absorb Shivlinigi & putrajeev beej for fertility and I will not suffer from increase energy/Insomnia. \\n Thank you,',\n",
              " 'answer': 'Brief Answer:\\nYes, continue the medication.\\n Detailed Answer:\\n Hi,\\n Continue the medication.\\n Licorice/Glycyrrhiza Glabra\\n-Guduchi/Tinospora Cordifolia\\n-Amalaki\\n All the above were correct and you can continue the medication for one month, get back to me with feedback so that I can advise you in this issue.\\n Hope I have answered your query.\\n Thank you.\\n Regards,\\nDr. S. Senthilnathan Subramanian\\nAyurveda Specialist'}"
            ]
          },
          "metadata": {},
          "execution_count": 10
        }
      ]
    },
    {
      "cell_type": "code",
      "source": [
        "# for card in cards[:2]:\n",
        "#   txt = str(card.get_text()).replace(\"\\r\", \"\\n\")\n",
        "#   if (re.match(\"question:\", txt, re.I)):\n",
        "#     print(txt.replace(\"Question:\", \"\").strip())\n",
        "#   if (re.match(\"brife:\", txt, re.I)):\n",
        "#     print(txt.replace(\"Question:\", \"\").strip())\n",
        "#   print(\"-\"*300)"
      ],
      "metadata": {
        "id": "86MWxO2L3OLf"
      },
      "execution_count": 11,
      "outputs": []
    },
    {
      "cell_type": "code",
      "source": [
        "\n",
        "{\"question\": re.sub(r'(\\n\\s*)+\\n+', '\\n\\n', re.sub(r'\\r', r'\\n', cards[0].get_text().strip())), \"answer\": re.sub(r'(\\n\\s*)+\\n+', '\\n\\n', re.sub(r'\\r', r'\\n', cards[1].get_text().strip()))}"
      ],
      "metadata": {
        "colab": {
          "base_uri": "https://localhost:8080/"
        },
        "id": "tdbRsOqP7R05",
        "outputId": "32122796-4268-44e6-a10e-7306db05c582"
      },
      "execution_count": 12,
      "outputs": [
        {
          "output_type": "execute_result",
          "data": {
            "text/plain": [
              "{'question': 'Question: Hello Doctor, \\n I interacted with you last month regarding my poor intolerance to Shivliningi beej and other medications after taking accidently taking high dose of Beheda churna, trukatu churna, swarna vasant, and praval pishti. \\n You recommended the following medications, I was not able to get in touch with anyone from the site you had given via email or by contacting. \\n-Yashimadu Choornam\\n-Amalant Tablet\\n-Guduchi Choornam\\n However, I was able to contact another site and this is the medication I got: \\n-Licorice/Glycyrrhiza Glabra\\n-Guduchi/Tinospora Cordifolia\\n-Amalaki\\n I was told these are the similar medication as you recommended. I wanted to ask you if this is correct? Will this help me excrete the excessive medication I took (Trikatu, Beheda, Swarna XXXXXXX and Praval). I would like to be able to digest/absorb Shivlinigi & putrajeev beej for fertility and I will not suffer from increase energy/Insomnia. \\n Thank you,',\n",
              " 'answer': 'Brief Answer:\\nYes, continue the medication.\\n Detailed Answer:\\n Hi,\\n Continue the medication.\\n Licorice/Glycyrrhiza Glabra\\n-Guduchi/Tinospora Cordifolia\\n-Amalaki\\n All the above were correct and you can continue the medication for one month, get back to me with feedback so that I can advise you in this issue.\\n Hope I have answered your query.\\n Thank you.\\n Regards,\\nDr. S. Senthilnathan Subramanian\\nAyurveda Specialist'}"
            ]
          },
          "metadata": {},
          "execution_count": 12
        }
      ]
    },
    {
      "cell_type": "code",
      "source": [
        "# for div in soup.find_all(\"div\", {\"class\": \"card\"}):\n",
        "#   print(div)\n",
        "#   break"
      ],
      "metadata": {
        "id": "G9RVIm5C2hli"
      },
      "execution_count": null,
      "outputs": []
    },
    {
      "cell_type": "code",
      "source": [
        "import json\n",
        "data = []\n",
        "for i in range(0, 335520, step):\n",
        "  print(f\"Crawl {i}\")\n",
        "  url = f\"https://www.healthcaremagic.com/premiumquestions/{i}\"\n",
        "  page = urlopen(url)\n",
        "  html = page.read().decode(\"utf-8\")\n",
        "  soup = BeautifulSoup(html, \"html.parser\")\n",
        "  links = [a.get(\"href\") for a in soup.find_all(\"a\", {\"class\": \"smallTitle\"})]\n",
        "  for link in links:\n",
        "    try:\n",
        "      url = f\"{BASE_URL}{link}\"\n",
        "      page = urlopen(url)\n",
        "      html = page.read().decode(\"utf-8\")\n",
        "      soup = BeautifulSoup(html, \"html.parser\")\n",
        "      cards = soup.find_all(\"div\", {\"class\": \"card\"})\n",
        "      for div in [c.find('div', {\"class\": \"userrow\"}) for c in cards]:\n",
        "        if div is not None:\n",
        "          div.decompose()\n",
        "      data.append({\"question\": re.sub(r'(\\n\\s*)+\\n+', '\\n\\n', re.sub(r'\\r', r'\\n', cards[0].get_text().strip())), \"answer\": re.sub(r'(\\n\\s*)+\\n+', '\\n\\n', re.sub(r'\\r', r'\\n', cards[1].get_text().strip())), \"url\": url})\n",
        "    except:\n",
        "      pass\n",
        "  if i % 2000 == 0:\n",
        "    with open(\"crawled.json\", \"w\") as f:\n",
        "      json.dump(data, f, indent=4)"
      ],
      "metadata": {
        "id": "HaEWNbIJnhSV"
      },
      "execution_count": null,
      "outputs": []
    },
    {
      "cell_type": "code",
      "source": [
        "with open(\"crawled.json\", \"w\") as f:\n",
        "  json.dump(data, f, indent=4)"
      ],
      "metadata": {
        "id": "vKmf0YWsn-yM"
      },
      "execution_count": null,
      "outputs": []
    }
  ]
}