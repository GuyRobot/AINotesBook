{
  "nbformat": 4,
  "nbformat_minor": 0,
  "metadata": {
    "colab": {
      "provenance": [],
      "authorship_tag": "ABX9TyMg2W4rb1uHPfbSQ+QN9lVk",
      "include_colab_link": true
    },
    "kernelspec": {
      "name": "python3",
      "display_name": "Python 3"
    },
    "language_info": {
      "name": "python"
    }
  },
  "cells": [
    {
      "cell_type": "markdown",
      "metadata": {
        "id": "view-in-github",
        "colab_type": "text"
      },
      "source": [
        "<a href=\"https://colab.research.google.com/github/GuyRobot/AINotesBook/blob/main/MedServer.ipynb\" target=\"_parent\"><img src=\"https://colab.research.google.com/assets/colab-badge.svg\" alt=\"Open In Colab\"/></a>"
      ]
    },
    {
      "cell_type": "code",
      "execution_count": 1,
      "metadata": {
        "colab": {
          "base_uri": "https://localhost:8080/"
        },
        "id": "Dkx04GN7_EUZ",
        "outputId": "13de4fba-2891-441f-8ca8-e4fd2c65271a"
      },
      "outputs": [
        {
          "output_type": "stream",
          "name": "stdout",
          "text": [
            "Cloning into 'MedChatbot'...\n",
            "remote: Enumerating objects: 7, done.\u001b[K\n",
            "remote: Counting objects: 100% (7/7), done.\u001b[K\n",
            "remote: Compressing objects: 100% (7/7), done.\u001b[K\n",
            "remote: Total 7 (delta 2), reused 2 (delta 0), pack-reused 0\u001b[K\n",
            "Receiving objects: 100% (7/7), done.\n",
            "Resolving deltas: 100% (2/2), done.\n"
          ]
        }
      ],
      "source": [
        "!git clone https://github.com/GuyRobot/MedChatbot/"
      ]
    },
    {
      "cell_type": "code",
      "source": [
        "!pip install -q transformers"
      ],
      "metadata": {
        "id": "048FBaVyD_DW",
        "outputId": "71e29824-f590-4b3d-b29c-9792a8ec3794",
        "colab": {
          "base_uri": "https://localhost:8080/"
        }
      },
      "execution_count": 25,
      "outputs": [
        {
          "output_type": "stream",
          "name": "stdout",
          "text": [
            "Collecting transformers\n",
            "  Downloading transformers-4.31.0-py3-none-any.whl (7.4 MB)\n",
            "\u001b[2K     \u001b[90m━━━━━━━━━━━━━━━━━━━━━━━━━━━━━━━━━━━━━━━━\u001b[0m \u001b[32m7.4/7.4 MB\u001b[0m \u001b[31m53.5 MB/s\u001b[0m eta \u001b[36m0:00:00\u001b[0m\n",
            "\u001b[?25hRequirement already satisfied: filelock in /usr/local/lib/python3.10/dist-packages (from transformers) (3.12.2)\n",
            "Collecting huggingface-hub<1.0,>=0.14.1 (from transformers)\n",
            "  Downloading huggingface_hub-0.16.4-py3-none-any.whl (268 kB)\n",
            "\u001b[2K     \u001b[90m━━━━━━━━━━━━━━━━━━━━━━━━━━━━━━━━━━━━━━\u001b[0m \u001b[32m268.8/268.8 kB\u001b[0m \u001b[31m20.1 MB/s\u001b[0m eta \u001b[36m0:00:00\u001b[0m\n",
            "\u001b[?25hRequirement already satisfied: numpy>=1.17 in /usr/local/lib/python3.10/dist-packages (from transformers) (1.23.5)\n",
            "Requirement already satisfied: packaging>=20.0 in /usr/local/lib/python3.10/dist-packages (from transformers) (23.1)\n",
            "Requirement already satisfied: pyyaml>=5.1 in /usr/local/lib/python3.10/dist-packages (from transformers) (6.0.1)\n",
            "Requirement already satisfied: regex!=2019.12.17 in /usr/local/lib/python3.10/dist-packages (from transformers) (2022.10.31)\n",
            "Requirement already satisfied: requests in /usr/local/lib/python3.10/dist-packages (from transformers) (2.31.0)\n",
            "Collecting tokenizers!=0.11.3,<0.14,>=0.11.1 (from transformers)\n",
            "  Downloading tokenizers-0.13.3-cp310-cp310-manylinux_2_17_x86_64.manylinux2014_x86_64.whl (7.8 MB)\n",
            "\u001b[2K     \u001b[90m━━━━━━━━━━━━━━━━━━━━━━━━━━━━━━━━━━━━━━━━\u001b[0m \u001b[32m7.8/7.8 MB\u001b[0m \u001b[31m76.0 MB/s\u001b[0m eta \u001b[36m0:00:00\u001b[0m\n",
            "\u001b[?25hCollecting safetensors>=0.3.1 (from transformers)\n",
            "  Downloading safetensors-0.3.2-cp310-cp310-manylinux_2_17_x86_64.manylinux2014_x86_64.whl (1.3 MB)\n",
            "\u001b[2K     \u001b[90m━━━━━━━━━━━━━━━━━━━━━━━━━━━━━━━━━━━━━━━━\u001b[0m \u001b[32m1.3/1.3 MB\u001b[0m \u001b[31m66.4 MB/s\u001b[0m eta \u001b[36m0:00:00\u001b[0m\n",
            "\u001b[?25hRequirement already satisfied: tqdm>=4.27 in /usr/local/lib/python3.10/dist-packages (from transformers) (4.65.0)\n",
            "Requirement already satisfied: fsspec in /usr/local/lib/python3.10/dist-packages (from huggingface-hub<1.0,>=0.14.1->transformers) (2023.6.0)\n",
            "Requirement already satisfied: typing-extensions>=3.7.4.3 in /usr/local/lib/python3.10/dist-packages (from huggingface-hub<1.0,>=0.14.1->transformers) (4.7.1)\n",
            "Requirement already satisfied: charset-normalizer<4,>=2 in /usr/local/lib/python3.10/dist-packages (from requests->transformers) (3.2.0)\n",
            "Requirement already satisfied: idna<4,>=2.5 in /usr/local/lib/python3.10/dist-packages (from requests->transformers) (3.4)\n",
            "Requirement already satisfied: urllib3<3,>=1.21.1 in /usr/local/lib/python3.10/dist-packages (from requests->transformers) (1.26.16)\n",
            "Requirement already satisfied: certifi>=2017.4.17 in /usr/local/lib/python3.10/dist-packages (from requests->transformers) (2023.7.22)\n",
            "Installing collected packages: tokenizers, safetensors, huggingface-hub, transformers\n",
            "Successfully installed huggingface-hub-0.16.4 safetensors-0.3.2 tokenizers-0.13.3 transformers-4.31.0\n"
          ]
        }
      ]
    },
    {
      "cell_type": "code",
      "source": [
        "import os\n",
        "os.environ[\"PAGE_ACCESS_TOKEN\"] = 'EAAVeZCz7EArsBOZCsANwRY8oAJrHDoCAEOSqnEPNxeEKk37NHWKby3N3YnlFyZBzLSZCUkHwTzp6kG2ZBsh0JDHivO2voh1VEXZCqyzSic4zk93TXhrPtr4nTcrFEZCxTqWLhlOMRvbDZCuMJV3heZCdfgb64r8nlIST7pc7bbNQSQu3wO69CpZCbKmaQOpgKFb4nKZAlUZD'"
      ],
      "metadata": {
        "id": "gfE7ZGrf_Msr"
      },
      "execution_count": 2,
      "outputs": []
    },
    {
      "cell_type": "code",
      "source": [
        "cd MedChatbot"
      ],
      "metadata": {
        "colab": {
          "base_uri": "https://localhost:8080/"
        },
        "id": "g9vzaO8n_SL1",
        "outputId": "10ec818a-af02-4ae9-872e-e67ee662c883"
      },
      "execution_count": 3,
      "outputs": [
        {
          "output_type": "stream",
          "name": "stdout",
          "text": [
            "/content/MedChatbot\n"
          ]
        }
      ]
    },
    {
      "cell_type": "code",
      "source": [
        "!git clone https://huggingface.co/GuysTrans/bart-base-finetuned-xsum"
      ],
      "metadata": {
        "id": "gFzBoj7dEWKi",
        "outputId": "6f968ca6-a941-4e48-bc1b-bb6388aa4b0c",
        "colab": {
          "base_uri": "https://localhost:8080/"
        }
      },
      "execution_count": 28,
      "outputs": [
        {
          "output_type": "stream",
          "name": "stdout",
          "text": [
            "Cloning into 'bart-base-finetuned-xsum'...\n",
            "remote: Enumerating objects: 2623, done.\u001b[K\n",
            "remote: Counting objects: 100% (2501/2501), done.\u001b[K\n",
            "remote: Compressing objects: 100% (2501/2501), done.\u001b[K\n",
            "remote: Total 2623 (delta 1191), reused 0 (delta 0), pack-reused 122\u001b[K\n",
            "Receiving objects: 100% (2623/2623), 1.90 MiB | 14.32 MiB/s, done.\n",
            "Resolving deltas: 100% (1230/1230), done.\n",
            "Filtering content: 100% (60/60), 532.66 MiB | 42.53 MiB/s, done.\n"
          ]
        }
      ]
    },
    {
      "cell_type": "code",
      "source": [
        "!sudo kill -9 $(sudo lsof -t -i:5000)"
      ],
      "metadata": {
        "id": "UKYbivGcEH7S",
        "outputId": "5c8d04c5-5717-45fb-f6f6-2221cbabf329",
        "colab": {
          "base_uri": "https://localhost:8080/"
        }
      },
      "execution_count": 37,
      "outputs": [
        {
          "output_type": "stream",
          "name": "stdout",
          "text": [
            "\n",
            "Usage:\n",
            " kill [options] <pid> [...]\n",
            "\n",
            "Options:\n",
            " <pid> [...]            send signal to every <pid> listed\n",
            " -<signal>, -s, --signal <signal>\n",
            "                        specify the <signal> to be sent\n",
            " -q, --queue <value>    integer value to be sent with the signal\n",
            " -l, --list=[<signal>]  list all signal names, or convert one to a name\n",
            " -L, --table            list all signal names in a nice table\n",
            "\n",
            " -h, --help     display this help and exit\n",
            " -V, --version  output version information and exit\n",
            "\n",
            "For more details see kill(1).\n"
          ]
        }
      ]
    },
    {
      "cell_type": "code",
      "source": [
        "%%script bash --bg --out script_out\n",
        "\n",
        "FLASK_APP=server.py flask run --host=0.0.0.0"
      ],
      "metadata": {
        "id": "UkUw3so6CuoQ"
      },
      "execution_count": 38,
      "outputs": []
    },
    {
      "cell_type": "code",
      "source": [
        "!gunicorn app:server"
      ],
      "metadata": {
        "id": "ZOM7jbSBJOtS",
        "outputId": "96f68691-765b-4fe1-d16d-ea54aecdc58a",
        "colab": {
          "base_uri": "https://localhost:8080/"
        }
      },
      "execution_count": 54,
      "outputs": [
        {
          "output_type": "stream",
          "name": "stdout",
          "text": [
            "/bin/bash: line 1: gunicorn: command not found\n"
          ]
        }
      ]
    },
    {
      "cell_type": "code",
      "source": [
        "!curl https://f6d7-35-194-75-144.ngrok-free.app/webhook"
      ],
      "metadata": {
        "id": "ieRVnuSCFja8",
        "outputId": "21cd5d62-5a20-4b3b-ab93-8cd717a06d81",
        "colab": {
          "base_uri": "https://localhost:8080/"
        }
      },
      "execution_count": 55,
      "outputs": [
        {
          "output_type": "stream",
          "name": "stdout",
          "text": [
            "incorrect"
          ]
        }
      ]
    },
    {
      "cell_type": "code",
      "source": [
        "!pip install pyngrok"
      ],
      "metadata": {
        "id": "PnCPBqJ9DmyP",
        "outputId": "a35d464b-08d6-482e-e5e5-1f77699aac5a",
        "colab": {
          "base_uri": "https://localhost:8080/"
        }
      },
      "execution_count": 6,
      "outputs": [
        {
          "output_type": "stream",
          "name": "stdout",
          "text": [
            "Collecting pyngrok\n",
            "  Downloading pyngrok-6.0.0.tar.gz (681 kB)\n",
            "\u001b[2K     \u001b[90m━━━━━━━━━━━━━━━━━━━━━━━━━━━━━━━━━━━━━━━\u001b[0m \u001b[32m681.2/681.2 kB\u001b[0m \u001b[31m9.0 MB/s\u001b[0m eta \u001b[36m0:00:00\u001b[0m\n",
            "\u001b[?25h  Preparing metadata (setup.py) ... \u001b[?25l\u001b[?25hdone\n",
            "Requirement already satisfied: PyYAML in /usr/local/lib/python3.10/dist-packages (from pyngrok) (6.0.1)\n",
            "Building wheels for collected packages: pyngrok\n",
            "  Building wheel for pyngrok (setup.py) ... \u001b[?25l\u001b[?25hdone\n",
            "  Created wheel for pyngrok: filename=pyngrok-6.0.0-py3-none-any.whl size=19866 sha256=21a2bfd84bcc48ec7c4fe4b04084eb2701880a64fc02bbc36bf83705c4016265\n",
            "  Stored in directory: /root/.cache/pip/wheels/5c/42/78/0c3d438d7f5730451a25f7ac6cbf4391759d22a67576ed7c2c\n",
            "Successfully built pyngrok\n",
            "Installing collected packages: pyngrok\n",
            "Successfully installed pyngrok-6.0.0\n"
          ]
        }
      ]
    },
    {
      "cell_type": "code",
      "source": [
        "!ngrok authtoken 2Tlw1DdammAtfQ86A5np6fSMEKy_4KoKNRu7S2xERcVZ7amwR"
      ],
      "metadata": {
        "colab": {
          "base_uri": "https://localhost:8080/"
        },
        "id": "FX27KJacDqAt",
        "outputId": "a84a91d5-d228-48bc-d1bc-ea3e3bf9611c"
      },
      "execution_count": 7,
      "outputs": [
        {
          "output_type": "stream",
          "name": "stdout",
          "text": [
            "Authtoken saved to configuration file: /root/.ngrok2/ngrok.yml\n"
          ]
        }
      ]
    },
    {
      "cell_type": "code",
      "source": [
        "from pyngrok import ngrok\n",
        "public_url = ngrok.connect(5000, \"http\")\n",
        "public_url"
      ],
      "metadata": {
        "colab": {
          "base_uri": "https://localhost:8080/"
        },
        "id": "vPgfIJg4Aq7T",
        "outputId": "c15625f6-92b8-493c-b1be-722d392dc601"
      },
      "execution_count": 47,
      "outputs": [
        {
          "output_type": "execute_result",
          "data": {
            "text/plain": [
              "<NgrokTunnel: \"https://f6d7-35-194-75-144.ngrok-free.app\" -> \"http://localhost:5000\">"
            ]
          },
          "metadata": {},
          "execution_count": 47
        }
      ]
    },
    {
      "cell_type": "code",
      "source": [
        "!cd bart-base-finetuned-xsum && git"
      ],
      "metadata": {
        "id": "zM4jeM0xM6OH",
        "outputId": "13f8223e-773d-4cb3-9623-aa6e8820e342",
        "colab": {
          "base_uri": "https://localhost:8080/"
        }
      },
      "execution_count": 57,
      "outputs": [
        {
          "output_type": "stream",
          "name": "stdout",
          "text": [
            "origin\thttps://huggingface.co/GuysTrans/bart-base-finetuned-xsum (fetch)\n",
            "origin\thttps://huggingface.co/GuysTrans/bart-base-finetuned-xsum (push)\n"
          ]
        }
      ]
    },
    {
      "cell_type": "code",
      "source": [
        "os.system(\"cd bart-base-finetuned-xsum && git pull\")"
      ],
      "metadata": {
        "id": "z9Iz3FJcE8Q7",
        "outputId": "8f758d37-ef62-4c8f-97bc-ce06557fc0ff",
        "colab": {
          "base_uri": "https://localhost:8080/"
        }
      },
      "execution_count": 53,
      "outputs": [
        {
          "output_type": "execute_result",
          "data": {
            "text/plain": [
              "0"
            ]
          },
          "metadata": {},
          "execution_count": 53
        }
      ]
    },
    {
      "cell_type": "code",
      "source": [
        "!ssh-keygen"
      ],
      "metadata": {
        "id": "kpqgd6bZRndk",
        "outputId": "0c593fc5-be5e-4cdc-fcae-3641a8f24be3",
        "colab": {
          "base_uri": "https://localhost:8080/"
        }
      },
      "execution_count": 63,
      "outputs": [
        {
          "output_type": "stream",
          "name": "stdout",
          "text": [
            "Generating public/private rsa key pair.\n",
            "Enter file in which to save the key (/root/.ssh/id_rsa): \n",
            "Enter passphrase (empty for no passphrase): \n",
            "Enter same passphrase again: \n",
            "Your identification has been saved in /root/.ssh/id_rsa\n",
            "Your public key has been saved in /root/.ssh/id_rsa.pub\n",
            "The key fingerprint is:\n",
            "SHA256:yWmPoXHEd5TLNNvsT+MyCWtBFhv+3TT1Jyj6TlYiQNE root@84fe2a873bda\n",
            "The key's randomart image is:\n",
            "+---[RSA 3072]----+\n",
            "|      oo    ..   |\n",
            "|     . .E  ++   .|\n",
            "|      . o oo=B  o|\n",
            "|       + +.*= +.+|\n",
            "|      . S.+.o..o+|\n",
            "|       =.= = ..oo|\n",
            "|      . ..+ + oo.|\n",
            "|         o.o + ..|\n",
            "|         .o   o  |\n",
            "+----[SHA256]-----+\n"
          ]
        }
      ]
    },
    {
      "cell_type": "code",
      "source": [
        "!mv /root/.ssh/id_rsa.pub /content/MedChatbot"
      ],
      "metadata": {
        "id": "0HilxB7sSHUB"
      },
      "execution_count": 64,
      "outputs": []
    },
    {
      "cell_type": "code",
      "source": [
        "!cp /content/MedChatbot/id_rsa.pub /root/.ssh/"
      ],
      "metadata": {
        "id": "mPYPaWm9Sesx"
      },
      "execution_count": 66,
      "outputs": []
    },
    {
      "cell_type": "code",
      "source": [
        "!ssh -o StrictHostKeyChecking=no -R guysmedchatt:80:localhost:5000 serveo.net"
      ],
      "metadata": {
        "id": "9Qp945jVQd-Y",
        "outputId": "53d9c964-accd-45e1-fb1b-b6c3a2b31df1",
        "colab": {
          "base_uri": "https://localhost:8080/"
        }
      },
      "execution_count": null,
      "outputs": [
        {
          "output_type": "stream",
          "name": "stdout",
          "text": [
            "\u001b[32mForwarding HTTP traffic from https://guysmedchatt.serveo.net\r\n",
            "\u001b[0m"
          ]
        }
      ]
    }
  ]
}