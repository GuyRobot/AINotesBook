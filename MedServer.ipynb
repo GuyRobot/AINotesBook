{
  "nbformat": 4,
  "nbformat_minor": 0,
  "metadata": {
    "colab": {
      "provenance": [],
      "authorship_tag": "ABX9TyMs0nfT0BGsIs1dkHq1RpEX",
      "include_colab_link": true
    },
    "kernelspec": {
      "name": "python3",
      "display_name": "Python 3"
    },
    "language_info": {
      "name": "python"
    }
  },
  "cells": [
    {
      "cell_type": "markdown",
      "metadata": {
        "id": "view-in-github",
        "colab_type": "text"
      },
      "source": [
        "<a href=\"https://colab.research.google.com/github/GuyRobot/AINotesBook/blob/main/MedServer.ipynb\" target=\"_parent\"><img src=\"https://colab.research.google.com/assets/colab-badge.svg\" alt=\"Open In Colab\"/></a>"
      ]
    },
    {
      "cell_type": "code",
      "execution_count": 1,
      "metadata": {
        "colab": {
          "base_uri": "https://localhost:8080/"
        },
        "id": "Dkx04GN7_EUZ",
        "outputId": "9c1f1bd5-dea1-4bc6-ad01-023d39c329dd"
      },
      "outputs": [
        {
          "output_type": "stream",
          "name": "stdout",
          "text": [
            "Cloning into 'MedChatbot'...\n",
            "remote: Enumerating objects: 7, done.\u001b[K\n",
            "remote: Counting objects: 100% (7/7), done.\u001b[K\n",
            "remote: Compressing objects: 100% (7/7), done.\u001b[K\n",
            "remote: Total 7 (delta 2), reused 2 (delta 0), pack-reused 0\u001b[K\n",
            "Receiving objects: 100% (7/7), done.\n",
            "Resolving deltas: 100% (2/2), done.\n"
          ]
        }
      ],
      "source": [
        "!git clone https://github.com/GuyRobot/MedChatbot/"
      ]
    },
    {
      "cell_type": "code",
      "source": [
        "import os\n",
        "os.environ[\"PAGE_ACCESS_TOKEN\"] = 'EAAVeZCz7EArsBOZCsANwRY8oAJrHDoCAEOSqnEPNxeEKk37NHWKby3N3YnlFyZBzLSZCUkHwTzp6kG2ZBsh0JDHivO2voh1VEXZCqyzSic4zk93TXhrPtr4nTcrFEZCxTqWLhlOMRvbDZCuMJV3heZCdfgb64r8nlIST7pc7bbNQSQu3wO69CpZCbKmaQOpgKFb4nKZAlUZD'"
      ],
      "metadata": {
        "id": "gfE7ZGrf_Msr"
      },
      "execution_count": 2,
      "outputs": []
    },
    {
      "cell_type": "code",
      "source": [
        "cd MedChatbot"
      ],
      "metadata": {
        "colab": {
          "base_uri": "https://localhost:8080/"
        },
        "id": "g9vzaO8n_SL1",
        "outputId": "269af9b6-f3e5-4667-ae2a-f7a6ea05d008"
      },
      "execution_count": 3,
      "outputs": [
        {
          "output_type": "stream",
          "name": "stdout",
          "text": [
            "/content/MedChatbot\n"
          ]
        }
      ]
    },
    {
      "cell_type": "code",
      "source": [
        "!sudo kill -9 $(sudo lsof -t -i:5000)"
      ],
      "metadata": {
        "id": "UKYbivGcEH7S"
      },
      "execution_count": 11,
      "outputs": []
    },
    {
      "cell_type": "code",
      "source": [
        "%%script bash --bg --out script_out\n",
        "\n",
        "FLASK_APP=server.py flask run --host=0.0.0.0"
      ],
      "metadata": {
        "id": "UkUw3so6CuoQ"
      },
      "execution_count": 13,
      "outputs": []
    },
    {
      "cell_type": "code",
      "source": [
        "!pip install pyngrok"
      ],
      "metadata": {
        "id": "PnCPBqJ9DmyP"
      },
      "execution_count": null,
      "outputs": []
    },
    {
      "cell_type": "code",
      "source": [
        "!ngrok authtoken 2Tlw1DdammAtfQ86A5np6fSMEKy_4KoKNRu7S2xERcVZ7amwR"
      ],
      "metadata": {
        "colab": {
          "base_uri": "https://localhost:8080/"
        },
        "id": "FX27KJacDqAt",
        "outputId": "77d5c560-31d4-4808-d859-5d86006654c0"
      },
      "execution_count": 6,
      "outputs": [
        {
          "output_type": "stream",
          "name": "stdout",
          "text": [
            "Authtoken saved to configuration file: /root/.ngrok2/ngrok.yml\n"
          ]
        }
      ]
    },
    {
      "cell_type": "code",
      "source": [
        "from pyngrok import ngrok\n",
        "public_url = ngrok.connect(5000, \"http\")\n",
        "public_url"
      ],
      "metadata": {
        "colab": {
          "base_uri": "https://localhost:8080/"
        },
        "id": "vPgfIJg4Aq7T",
        "outputId": "4e3bbf4a-b9ef-4a4a-e619-c4326cca0a90"
      },
      "execution_count": 16,
      "outputs": [
        {
          "output_type": "execute_result",
          "data": {
            "text/plain": [
              "<NgrokTunnel: \"https://77d6-34-83-225-46.ngrok-free.app\" -> \"http://localhost:5000\">"
            ]
          },
          "metadata": {},
          "execution_count": 16
        }
      ]
    },
    {
      "cell_type": "code",
      "source": [
        "!curl"
      ],
      "metadata": {
        "id": "z9Iz3FJcE8Q7"
      },
      "execution_count": null,
      "outputs": []
    }
  ]
}